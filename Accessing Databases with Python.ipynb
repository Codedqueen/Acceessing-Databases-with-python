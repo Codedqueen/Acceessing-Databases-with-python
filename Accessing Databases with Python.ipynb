{
 "cells": [
  {
   "cell_type": "markdown",
   "id": "98e48ee1-6707-465a-b638-b7c2544e9651",
   "metadata": {},
   "source": [
    "## Reading data from relational database"
   ]
  },
  {
   "cell_type": "code",
   "execution_count": null,
   "id": "632f7518-755a-4f2e-9d6b-645f322c4d59",
   "metadata": {},
   "outputs": [],
   "source": []
  },
  {
   "cell_type": "code",
   "execution_count": 1,
   "id": "666e01a9-7a1a-47da-99f7-8184cedc42c3",
   "metadata": {},
   "outputs": [],
   "source": [
    "import pandas as pd"
   ]
  },
  {
   "cell_type": "markdown",
   "id": "7fa90db3-968e-421a-b1c3-82051823ea21",
   "metadata": {
    "tags": []
   },
   "source": [
    "### Reading data from SQL database"
   ]
  },
  {
   "cell_type": "markdown",
   "id": "8b0a802d-e2af-4c1d-8ced-d6a82803ac47",
   "metadata": {},
   "source": [
    "##### Reading data from SQL datbase is fairly simple and pandas supports a variety of methods to deal with it."
   ]
  },
  {
   "cell_type": "markdown",
   "id": "bec31af1-838b-4d32-8022-b46db4365645",
   "metadata": {},
   "source": [
    "##### We will start with an example using SQlite as it is a built-in python package and we dont need anything extra installed."
   ]
  },
  {
   "cell_type": "code",
   "execution_count": 2,
   "id": "c396fe7a-0cce-4342-a703-688137b12f56",
   "metadata": {},
   "outputs": [],
   "source": [
    "# conda install (package) how to install any package\n",
    "# pip in python means package installar for python if you are using th default python id\n",
    "# !to run a package directly from your jupiter note book !pip install sqlana"
   ]
  },
  {
   "cell_type": "code",
   "execution_count": 3,
   "id": "72bc8d8e-b48e-4379-a5a0-38ac5856922b",
   "metadata": {},
   "outputs": [],
   "source": [
    "import sqlite3"
   ]
  },
  {
   "cell_type": "markdown",
   "id": "f59a7ac1-1207-43b0-b956-54f65814f385",
   "metadata": {},
   "source": [
    "##### In other to work with SQlite database from python,we first have to connect to it.We can do that using connect function\n",
    "##### which returns a connection object."
   ]
  },
  {
   "cell_type": "markdown",
   "id": "8eeac514-d3e3-4bd7-b894-ae7432444d71",
   "metadata": {},
   "source": [
    "##### We will use the following data structure"
   ]
  },
  {
   "cell_type": "code",
   "execution_count": 4,
   "id": "568ec24c-9bdf-4d1c-831c-a4402cda5439",
   "metadata": {},
   "outputs": [],
   "source": [
    "# using chibook to create a connection\n",
    "conn = sqlite3.connect('C:\\\\Users\\\\user\\\\Downloads\\\\chinook.db')\n",
    " # a key arguement (con) to specify a connection object. but conn is a variable and can as well be changed,if  it to something else"
   ]
  },
  {
   "cell_type": "code",
   "execution_count": 5,
   "id": "e178e660-542e-4016-a0d5-61ca83fe22df",
   "metadata": {},
   "outputs": [],
   "source": [
    "# Once we have a connection object we can then create a cursor object. cursor allows us to execute SQL queries against a database."
   ]
  },
  {
   "cell_type": "code",
   "execution_count": 6,
   "id": "cfb5f9fd-2fec-450a-a0e8-ebec160beafc",
   "metadata": {},
   "outputs": [],
   "source": [
    "#APi is a programm that allows two faces of software to operate together."
   ]
  },
  {
   "cell_type": "code",
   "execution_count": 7,
   "id": "a5c8a006-5527-43ed-89cf-ec3b8150cf88",
   "metadata": {},
   "outputs": [],
   "source": [
    "cur = conn.cursor()"
   ]
  },
  {
   "cell_type": "markdown",
   "id": "03b4fe84-441b-41ef-8ea6-dfe2bb61b857",
   "metadata": {},
   "source": [
    "##### cursor object is used in python is a tool that allows you to further execute sql queries.\n",
    "##### we use cursor object when we want to execute sql queries cursor.execute after creating an sql query."
   ]
  },
  {
   "cell_type": "code",
   "execution_count": 8,
   "id": "8f05b667-c69f-41dd-b39d-b4bc008940b7",
   "metadata": {},
   "outputs": [
    {
     "data": {
      "text/plain": [
       "<sqlite3.Cursor at 0x1c2d343a810>"
      ]
     },
     "execution_count": 8,
     "metadata": {},
     "output_type": "execute_result"
    }
   ],
   "source": [
    "#select all record from employees table and limit it to 5 \n",
    "# output is a generator object ,hence we need to apply another method called the fetch all\n",
    "# This code will help us fetch the first 5 rows from the emplotees table\n",
    "cur.execute('SELECT * FROM employees LIMIT 5 ;')"
   ]
  },
  {
   "cell_type": "markdown",
   "id": "4bb4353f-fd30-45b3-b5d5-077481973c51",
   "metadata": {},
   "source": [
    "##### You may have noticed that we didnt assign the result of the above table to a variable, this is because we need to run another command\n",
    "##### to actually fetch the result."
   ]
  },
  {
   "cell_type": "code",
   "execution_count": 9,
   "id": "3bbe87c2-c4ef-4a3a-8305-b8bd179db02f",
   "metadata": {},
   "outputs": [],
   "source": [
    "# We will use the fetchall method to fetch all the result of this querry\n",
    "results = cur.fetchall() "
   ]
  },
  {
   "cell_type": "code",
   "execution_count": 10,
   "id": "1d56f46a-c273-430e-8fb5-49867a613b4c",
   "metadata": {},
   "outputs": [
    {
     "data": {
      "text/plain": [
       "[(1,\n",
       "  'Adams',\n",
       "  'Andrew',\n",
       "  'General Manager',\n",
       "  None,\n",
       "  '1962-02-18 00:00:00',\n",
       "  '2002-08-14 00:00:00',\n",
       "  '11120 Jasper Ave NW',\n",
       "  'Edmonton',\n",
       "  'AB',\n",
       "  'Canada',\n",
       "  'T5K 2N1',\n",
       "  '+1 (780) 428-9482',\n",
       "  '+1 (780) 428-3457',\n",
       "  'andrew@chinookcorp.com'),\n",
       " (2,\n",
       "  'Edwards',\n",
       "  'Nancy',\n",
       "  'Sales Manager',\n",
       "  1,\n",
       "  '1958-12-08 00:00:00',\n",
       "  '2002-05-01 00:00:00',\n",
       "  '825 8 Ave SW',\n",
       "  'Calgary',\n",
       "  'AB',\n",
       "  'Canada',\n",
       "  'T2P 2T3',\n",
       "  '+1 (403) 262-3443',\n",
       "  '+1 (403) 262-3322',\n",
       "  'nancy@chinookcorp.com'),\n",
       " (3,\n",
       "  'Peacock',\n",
       "  'Jane',\n",
       "  'Sales Support Agent',\n",
       "  2,\n",
       "  '1973-08-29 00:00:00',\n",
       "  '2002-04-01 00:00:00',\n",
       "  '1111 6 Ave SW',\n",
       "  'Calgary',\n",
       "  'AB',\n",
       "  'Canada',\n",
       "  'T2P 5M5',\n",
       "  '+1 (403) 262-3443',\n",
       "  '+1 (403) 262-6712',\n",
       "  'jane@chinookcorp.com'),\n",
       " (4,\n",
       "  'Park',\n",
       "  'Margaret',\n",
       "  'Sales Support Agent',\n",
       "  2,\n",
       "  '1947-09-19 00:00:00',\n",
       "  '2003-05-03 00:00:00',\n",
       "  '683 10 Street SW',\n",
       "  'Calgary',\n",
       "  'AB',\n",
       "  'Canada',\n",
       "  'T2P 5G3',\n",
       "  '+1 (403) 263-4423',\n",
       "  '+1 (403) 263-4289',\n",
       "  'margaret@chinookcorp.com'),\n",
       " (5,\n",
       "  'Johnson',\n",
       "  'Steve',\n",
       "  'Sales Support Agent',\n",
       "  2,\n",
       "  '1965-03-03 00:00:00',\n",
       "  '2003-10-17 00:00:00',\n",
       "  '7727B 41 Ave',\n",
       "  'Calgary',\n",
       "  'AB',\n",
       "  'Canada',\n",
       "  'T3B 1Y7',\n",
       "  '1 (780) 836-9987',\n",
       "  '1 (780) 836-9543',\n",
       "  'steve@chinookcorp.com')]"
      ]
     },
     "execution_count": 10,
     "metadata": {},
     "output_type": "execute_result"
    }
   ],
   "source": [
    "results"
   ]
  },
  {
   "cell_type": "markdown",
   "id": "484c45e0-ff2e-4454-a382-26e903bc275f",
   "metadata": {},
   "source": [
    "##### As you can see the result are returned as a list of turple. Each Turple corressponds  to a row in the database that we accessed\n",
    "##### Dealing with dat this way is painful.we need to manually add column headers and manually parse the date.Luckily the pandas library\n",
    "##### has an easier way and we will look at that as well."
   ]
  },
  {
   "cell_type": "code",
   "execution_count": 11,
   "id": "21bea67b-9ba8-4b75-a66a-c257900ee2bf",
   "metadata": {},
   "outputs": [
    {
     "data": {
      "text/html": [
       "<div>\n",
       "<style scoped>\n",
       "    .dataframe tbody tr th:only-of-type {\n",
       "        vertical-align: middle;\n",
       "    }\n",
       "\n",
       "    .dataframe tbody tr th {\n",
       "        vertical-align: top;\n",
       "    }\n",
       "\n",
       "    .dataframe thead th {\n",
       "        text-align: right;\n",
       "    }\n",
       "</style>\n",
       "<table border=\"1\" class=\"dataframe\">\n",
       "  <thead>\n",
       "    <tr style=\"text-align: right;\">\n",
       "      <th></th>\n",
       "      <th>0</th>\n",
       "      <th>1</th>\n",
       "      <th>2</th>\n",
       "      <th>3</th>\n",
       "      <th>4</th>\n",
       "      <th>5</th>\n",
       "      <th>6</th>\n",
       "      <th>7</th>\n",
       "      <th>8</th>\n",
       "      <th>9</th>\n",
       "      <th>10</th>\n",
       "      <th>11</th>\n",
       "      <th>12</th>\n",
       "      <th>13</th>\n",
       "      <th>14</th>\n",
       "    </tr>\n",
       "  </thead>\n",
       "  <tbody>\n",
       "    <tr>\n",
       "      <th>0</th>\n",
       "      <td>1</td>\n",
       "      <td>Adams</td>\n",
       "      <td>Andrew</td>\n",
       "      <td>General Manager</td>\n",
       "      <td>NaN</td>\n",
       "      <td>1962-02-18 00:00:00</td>\n",
       "      <td>2002-08-14 00:00:00</td>\n",
       "      <td>11120 Jasper Ave NW</td>\n",
       "      <td>Edmonton</td>\n",
       "      <td>AB</td>\n",
       "      <td>Canada</td>\n",
       "      <td>T5K 2N1</td>\n",
       "      <td>+1 (780) 428-9482</td>\n",
       "      <td>+1 (780) 428-3457</td>\n",
       "      <td>andrew@chinookcorp.com</td>\n",
       "    </tr>\n",
       "    <tr>\n",
       "      <th>1</th>\n",
       "      <td>2</td>\n",
       "      <td>Edwards</td>\n",
       "      <td>Nancy</td>\n",
       "      <td>Sales Manager</td>\n",
       "      <td>1.0</td>\n",
       "      <td>1958-12-08 00:00:00</td>\n",
       "      <td>2002-05-01 00:00:00</td>\n",
       "      <td>825 8 Ave SW</td>\n",
       "      <td>Calgary</td>\n",
       "      <td>AB</td>\n",
       "      <td>Canada</td>\n",
       "      <td>T2P 2T3</td>\n",
       "      <td>+1 (403) 262-3443</td>\n",
       "      <td>+1 (403) 262-3322</td>\n",
       "      <td>nancy@chinookcorp.com</td>\n",
       "    </tr>\n",
       "    <tr>\n",
       "      <th>2</th>\n",
       "      <td>3</td>\n",
       "      <td>Peacock</td>\n",
       "      <td>Jane</td>\n",
       "      <td>Sales Support Agent</td>\n",
       "      <td>2.0</td>\n",
       "      <td>1973-08-29 00:00:00</td>\n",
       "      <td>2002-04-01 00:00:00</td>\n",
       "      <td>1111 6 Ave SW</td>\n",
       "      <td>Calgary</td>\n",
       "      <td>AB</td>\n",
       "      <td>Canada</td>\n",
       "      <td>T2P 5M5</td>\n",
       "      <td>+1 (403) 262-3443</td>\n",
       "      <td>+1 (403) 262-6712</td>\n",
       "      <td>jane@chinookcorp.com</td>\n",
       "    </tr>\n",
       "    <tr>\n",
       "      <th>3</th>\n",
       "      <td>4</td>\n",
       "      <td>Park</td>\n",
       "      <td>Margaret</td>\n",
       "      <td>Sales Support Agent</td>\n",
       "      <td>2.0</td>\n",
       "      <td>1947-09-19 00:00:00</td>\n",
       "      <td>2003-05-03 00:00:00</td>\n",
       "      <td>683 10 Street SW</td>\n",
       "      <td>Calgary</td>\n",
       "      <td>AB</td>\n",
       "      <td>Canada</td>\n",
       "      <td>T2P 5G3</td>\n",
       "      <td>+1 (403) 263-4423</td>\n",
       "      <td>+1 (403) 263-4289</td>\n",
       "      <td>margaret@chinookcorp.com</td>\n",
       "    </tr>\n",
       "    <tr>\n",
       "      <th>4</th>\n",
       "      <td>5</td>\n",
       "      <td>Johnson</td>\n",
       "      <td>Steve</td>\n",
       "      <td>Sales Support Agent</td>\n",
       "      <td>2.0</td>\n",
       "      <td>1965-03-03 00:00:00</td>\n",
       "      <td>2003-10-17 00:00:00</td>\n",
       "      <td>7727B 41 Ave</td>\n",
       "      <td>Calgary</td>\n",
       "      <td>AB</td>\n",
       "      <td>Canada</td>\n",
       "      <td>T3B 1Y7</td>\n",
       "      <td>1 (780) 836-9987</td>\n",
       "      <td>1 (780) 836-9543</td>\n",
       "      <td>steve@chinookcorp.com</td>\n",
       "    </tr>\n",
       "  </tbody>\n",
       "</table>\n",
       "</div>"
      ],
      "text/plain": [
       "   0        1         2                    3    4                    5   \\\n",
       "0   1    Adams    Andrew      General Manager  NaN  1962-02-18 00:00:00   \n",
       "1   2  Edwards     Nancy        Sales Manager  1.0  1958-12-08 00:00:00   \n",
       "2   3  Peacock      Jane  Sales Support Agent  2.0  1973-08-29 00:00:00   \n",
       "3   4     Park  Margaret  Sales Support Agent  2.0  1947-09-19 00:00:00   \n",
       "4   5  Johnson     Steve  Sales Support Agent  2.0  1965-03-03 00:00:00   \n",
       "\n",
       "                    6                    7         8   9       10       11  \\\n",
       "0  2002-08-14 00:00:00  11120 Jasper Ave NW  Edmonton  AB  Canada  T5K 2N1   \n",
       "1  2002-05-01 00:00:00         825 8 Ave SW   Calgary  AB  Canada  T2P 2T3   \n",
       "2  2002-04-01 00:00:00        1111 6 Ave SW   Calgary  AB  Canada  T2P 5M5   \n",
       "3  2003-05-03 00:00:00     683 10 Street SW   Calgary  AB  Canada  T2P 5G3   \n",
       "4  2003-10-17 00:00:00         7727B 41 Ave   Calgary  AB  Canada  T3B 1Y7   \n",
       "\n",
       "                  12                 13                        14  \n",
       "0  +1 (780) 428-9482  +1 (780) 428-3457    andrew@chinookcorp.com  \n",
       "1  +1 (403) 262-3443  +1 (403) 262-3322     nancy@chinookcorp.com  \n",
       "2  +1 (403) 262-3443  +1 (403) 262-6712      jane@chinookcorp.com  \n",
       "3  +1 (403) 263-4423  +1 (403) 263-4289  margaret@chinookcorp.com  \n",
       "4   1 (780) 836-9987   1 (780) 836-9543     steve@chinookcorp.com  "
      ]
     },
     "execution_count": 11,
     "metadata": {},
     "output_type": "execute_result"
    }
   ],
   "source": [
    "df = pd.DataFrame(results) # you need to convert to tabular form to be able to interprete the result.\n",
    "df"
   ]
  },
  {
   "cell_type": "code",
   "execution_count": 12,
   "id": "6f9e510f-b257-491e-bd0d-0a5ddc29d207",
   "metadata": {},
   "outputs": [
    {
     "data": {
      "text/html": [
       "<div>\n",
       "<style scoped>\n",
       "    .dataframe tbody tr th:only-of-type {\n",
       "        vertical-align: middle;\n",
       "    }\n",
       "\n",
       "    .dataframe tbody tr th {\n",
       "        vertical-align: top;\n",
       "    }\n",
       "\n",
       "    .dataframe thead th {\n",
       "        text-align: right;\n",
       "    }\n",
       "</style>\n",
       "<table border=\"1\" class=\"dataframe\">\n",
       "  <thead>\n",
       "    <tr style=\"text-align: right;\">\n",
       "      <th></th>\n",
       "      <th>0</th>\n",
       "      <th>1</th>\n",
       "      <th>2</th>\n",
       "      <th>3</th>\n",
       "      <th>4</th>\n",
       "      <th>5</th>\n",
       "      <th>6</th>\n",
       "      <th>7</th>\n",
       "      <th>8</th>\n",
       "      <th>9</th>\n",
       "      <th>10</th>\n",
       "      <th>11</th>\n",
       "      <th>12</th>\n",
       "      <th>13</th>\n",
       "      <th>14</th>\n",
       "    </tr>\n",
       "  </thead>\n",
       "  <tbody>\n",
       "    <tr>\n",
       "      <th>0</th>\n",
       "      <td>1</td>\n",
       "      <td>Adams</td>\n",
       "      <td>Andrew</td>\n",
       "      <td>General Manager</td>\n",
       "      <td>NaN</td>\n",
       "      <td>1962-02-18 00:00:00</td>\n",
       "      <td>2002-08-14 00:00:00</td>\n",
       "      <td>11120 Jasper Ave NW</td>\n",
       "      <td>Edmonton</td>\n",
       "      <td>AB</td>\n",
       "      <td>Canada</td>\n",
       "      <td>T5K 2N1</td>\n",
       "      <td>+1 (780) 428-9482</td>\n",
       "      <td>+1 (780) 428-3457</td>\n",
       "      <td>andrew@chinookcorp.com</td>\n",
       "    </tr>\n",
       "    <tr>\n",
       "      <th>1</th>\n",
       "      <td>2</td>\n",
       "      <td>Edwards</td>\n",
       "      <td>Nancy</td>\n",
       "      <td>Sales Manager</td>\n",
       "      <td>1.0</td>\n",
       "      <td>1958-12-08 00:00:00</td>\n",
       "      <td>2002-05-01 00:00:00</td>\n",
       "      <td>825 8 Ave SW</td>\n",
       "      <td>Calgary</td>\n",
       "      <td>AB</td>\n",
       "      <td>Canada</td>\n",
       "      <td>T2P 2T3</td>\n",
       "      <td>+1 (403) 262-3443</td>\n",
       "      <td>+1 (403) 262-3322</td>\n",
       "      <td>nancy@chinookcorp.com</td>\n",
       "    </tr>\n",
       "    <tr>\n",
       "      <th>2</th>\n",
       "      <td>3</td>\n",
       "      <td>Peacock</td>\n",
       "      <td>Jane</td>\n",
       "      <td>Sales Support Agent</td>\n",
       "      <td>2.0</td>\n",
       "      <td>1973-08-29 00:00:00</td>\n",
       "      <td>2002-04-01 00:00:00</td>\n",
       "      <td>1111 6 Ave SW</td>\n",
       "      <td>Calgary</td>\n",
       "      <td>AB</td>\n",
       "      <td>Canada</td>\n",
       "      <td>T2P 5M5</td>\n",
       "      <td>+1 (403) 262-3443</td>\n",
       "      <td>+1 (403) 262-6712</td>\n",
       "      <td>jane@chinookcorp.com</td>\n",
       "    </tr>\n",
       "    <tr>\n",
       "      <th>3</th>\n",
       "      <td>4</td>\n",
       "      <td>Park</td>\n",
       "      <td>Margaret</td>\n",
       "      <td>Sales Support Agent</td>\n",
       "      <td>2.0</td>\n",
       "      <td>1947-09-19 00:00:00</td>\n",
       "      <td>2003-05-03 00:00:00</td>\n",
       "      <td>683 10 Street SW</td>\n",
       "      <td>Calgary</td>\n",
       "      <td>AB</td>\n",
       "      <td>Canada</td>\n",
       "      <td>T2P 5G3</td>\n",
       "      <td>+1 (403) 263-4423</td>\n",
       "      <td>+1 (403) 263-4289</td>\n",
       "      <td>margaret@chinookcorp.com</td>\n",
       "    </tr>\n",
       "    <tr>\n",
       "      <th>4</th>\n",
       "      <td>5</td>\n",
       "      <td>Johnson</td>\n",
       "      <td>Steve</td>\n",
       "      <td>Sales Support Agent</td>\n",
       "      <td>2.0</td>\n",
       "      <td>1965-03-03 00:00:00</td>\n",
       "      <td>2003-10-17 00:00:00</td>\n",
       "      <td>7727B 41 Ave</td>\n",
       "      <td>Calgary</td>\n",
       "      <td>AB</td>\n",
       "      <td>Canada</td>\n",
       "      <td>T3B 1Y7</td>\n",
       "      <td>1 (780) 836-9987</td>\n",
       "      <td>1 (780) 836-9543</td>\n",
       "      <td>steve@chinookcorp.com</td>\n",
       "    </tr>\n",
       "  </tbody>\n",
       "</table>\n",
       "</div>"
      ],
      "text/plain": [
       "   0        1         2                    3    4                    5   \\\n",
       "0   1    Adams    Andrew      General Manager  NaN  1962-02-18 00:00:00   \n",
       "1   2  Edwards     Nancy        Sales Manager  1.0  1958-12-08 00:00:00   \n",
       "2   3  Peacock      Jane  Sales Support Agent  2.0  1973-08-29 00:00:00   \n",
       "3   4     Park  Margaret  Sales Support Agent  2.0  1947-09-19 00:00:00   \n",
       "4   5  Johnson     Steve  Sales Support Agent  2.0  1965-03-03 00:00:00   \n",
       "\n",
       "                    6                    7         8   9       10       11  \\\n",
       "0  2002-08-14 00:00:00  11120 Jasper Ave NW  Edmonton  AB  Canada  T5K 2N1   \n",
       "1  2002-05-01 00:00:00         825 8 Ave SW   Calgary  AB  Canada  T2P 2T3   \n",
       "2  2002-04-01 00:00:00        1111 6 Ave SW   Calgary  AB  Canada  T2P 5M5   \n",
       "3  2003-05-03 00:00:00     683 10 Street SW   Calgary  AB  Canada  T2P 5G3   \n",
       "4  2003-10-17 00:00:00         7727B 41 Ave   Calgary  AB  Canada  T3B 1Y7   \n",
       "\n",
       "                  12                 13                        14  \n",
       "0  +1 (780) 428-9482  +1 (780) 428-3457    andrew@chinookcorp.com  \n",
       "1  +1 (403) 262-3443  +1 (403) 262-3322     nancy@chinookcorp.com  \n",
       "2  +1 (403) 262-3443  +1 (403) 262-6712      jane@chinookcorp.com  \n",
       "3  +1 (403) 263-4423  +1 (403) 263-4289  margaret@chinookcorp.com  \n",
       "4   1 (780) 836-9987   1 (780) 836-9543     steve@chinookcorp.com  "
      ]
     },
     "execution_count": 12,
     "metadata": {},
     "output_type": "execute_result"
    }
   ],
   "source": [
    "df.head()"
   ]
  },
  {
   "cell_type": "markdown",
   "id": "5c830d87-d1fd-4519-9500-64797bfdf5bf",
   "metadata": {},
   "source": [
    "##### We can close connection object and  cursor object that are open using the code below. This is good practice as it presents the SQlite database \n",
    "##### from been locked.When an SQlite database is locked , you may be unable to update the database and may get errors.\n",
    "##### When you want to open it ,you can use cur.open() conn.open() to open it."
   ]
  },
  {
   "cell_type": "code",
   "execution_count": 13,
   "id": "061e9b2f-9253-4b29-9758-2b178df15a1e",
   "metadata": {},
   "outputs": [],
   "source": [
    "cur.close()"
   ]
  },
  {
   "cell_type": "code",
   "execution_count": 14,
   "id": "5f9973cc-9d56-4975-b44b-fba8a0d440bc",
   "metadata": {},
   "outputs": [],
   "source": [
    "conn.close()"
   ]
  },
  {
   "cell_type": "code",
   "execution_count": null,
   "id": "53e077e8-e5ea-49d2-8e8c-b33a42d1bb1a",
   "metadata": {},
   "outputs": [],
   "source": []
  },
  {
   "cell_type": "markdown",
   "id": "60aa0c4a-c906-4af0-a327-9962ac79cf26",
   "metadata": {},
   "source": [
    "### Using pandas read_sql method"
   ]
  },
  {
   "cell_type": "markdown",
   "id": "88c022fe-c562-49c4-b870-0f1b483ff30b",
   "metadata": {},
   "source": [
    "##### We can use the pandas read_sql function to read the result of SQL query directly into pandas DataFrame.The code below \n",
    "##### will execute the same query that we just did but it will return a dataFrame.It has several advantages over the query we did above.\n",
    "##### .It doesn't require us to create a cursor object or call fetchall at the end.\n",
    "##### .it automatically reads in the names of the headers from the table\n",
    "##### .It creates a DataFrame so you can quickly explore the data."
   ]
  },
  {
   "cell_type": "code",
   "execution_count": 15,
   "id": "8afedff4-c99f-47ad-96a3-3c4dd1ac85b3",
   "metadata": {},
   "outputs": [],
   "source": [
    "conn = sqlite3.connect('C:\\\\Users\\\\user\\\\Downloads\\\\chinook.db')"
   ]
  },
  {
   "cell_type": "code",
   "execution_count": 16,
   "id": "894389f7-b15a-48bb-bdc9-b5e45581f0e1",
   "metadata": {},
   "outputs": [],
   "source": [
    "#conn = sqlite3.connect('chinook.db')"
   ]
  },
  {
   "cell_type": "code",
   "execution_count": 17,
   "id": "72345035-8b0a-4ec7-bd2d-cb70684fc5c4",
   "metadata": {},
   "outputs": [],
   "source": [
    "df = pd.read_sql('SELECT * FROM employees',conn)"
   ]
  },
  {
   "cell_type": "code",
   "execution_count": 18,
   "id": "b013aa40-b045-4812-9a91-7cc17088277c",
   "metadata": {},
   "outputs": [
    {
     "data": {
      "text/html": [
       "<div>\n",
       "<style scoped>\n",
       "    .dataframe tbody tr th:only-of-type {\n",
       "        vertical-align: middle;\n",
       "    }\n",
       "\n",
       "    .dataframe tbody tr th {\n",
       "        vertical-align: top;\n",
       "    }\n",
       "\n",
       "    .dataframe thead th {\n",
       "        text-align: right;\n",
       "    }\n",
       "</style>\n",
       "<table border=\"1\" class=\"dataframe\">\n",
       "  <thead>\n",
       "    <tr style=\"text-align: right;\">\n",
       "      <th></th>\n",
       "      <th>EmployeeId</th>\n",
       "      <th>LastName</th>\n",
       "      <th>FirstName</th>\n",
       "      <th>Title</th>\n",
       "      <th>ReportsTo</th>\n",
       "      <th>BirthDate</th>\n",
       "      <th>HireDate</th>\n",
       "      <th>Address</th>\n",
       "      <th>City</th>\n",
       "      <th>State</th>\n",
       "      <th>Country</th>\n",
       "      <th>PostalCode</th>\n",
       "      <th>Phone</th>\n",
       "      <th>Fax</th>\n",
       "      <th>Email</th>\n",
       "    </tr>\n",
       "  </thead>\n",
       "  <tbody>\n",
       "    <tr>\n",
       "      <th>0</th>\n",
       "      <td>1</td>\n",
       "      <td>Adams</td>\n",
       "      <td>Andrew</td>\n",
       "      <td>General Manager</td>\n",
       "      <td>NaN</td>\n",
       "      <td>1962-02-18 00:00:00</td>\n",
       "      <td>2002-08-14 00:00:00</td>\n",
       "      <td>11120 Jasper Ave NW</td>\n",
       "      <td>Edmonton</td>\n",
       "      <td>AB</td>\n",
       "      <td>Canada</td>\n",
       "      <td>T5K 2N1</td>\n",
       "      <td>+1 (780) 428-9482</td>\n",
       "      <td>+1 (780) 428-3457</td>\n",
       "      <td>andrew@chinookcorp.com</td>\n",
       "    </tr>\n",
       "    <tr>\n",
       "      <th>1</th>\n",
       "      <td>2</td>\n",
       "      <td>Edwards</td>\n",
       "      <td>Nancy</td>\n",
       "      <td>Sales Manager</td>\n",
       "      <td>1.0</td>\n",
       "      <td>1958-12-08 00:00:00</td>\n",
       "      <td>2002-05-01 00:00:00</td>\n",
       "      <td>825 8 Ave SW</td>\n",
       "      <td>Calgary</td>\n",
       "      <td>AB</td>\n",
       "      <td>Canada</td>\n",
       "      <td>T2P 2T3</td>\n",
       "      <td>+1 (403) 262-3443</td>\n",
       "      <td>+1 (403) 262-3322</td>\n",
       "      <td>nancy@chinookcorp.com</td>\n",
       "    </tr>\n",
       "    <tr>\n",
       "      <th>2</th>\n",
       "      <td>3</td>\n",
       "      <td>Peacock</td>\n",
       "      <td>Jane</td>\n",
       "      <td>Sales Support Agent</td>\n",
       "      <td>2.0</td>\n",
       "      <td>1973-08-29 00:00:00</td>\n",
       "      <td>2002-04-01 00:00:00</td>\n",
       "      <td>1111 6 Ave SW</td>\n",
       "      <td>Calgary</td>\n",
       "      <td>AB</td>\n",
       "      <td>Canada</td>\n",
       "      <td>T2P 5M5</td>\n",
       "      <td>+1 (403) 262-3443</td>\n",
       "      <td>+1 (403) 262-6712</td>\n",
       "      <td>jane@chinookcorp.com</td>\n",
       "    </tr>\n",
       "    <tr>\n",
       "      <th>3</th>\n",
       "      <td>4</td>\n",
       "      <td>Park</td>\n",
       "      <td>Margaret</td>\n",
       "      <td>Sales Support Agent</td>\n",
       "      <td>2.0</td>\n",
       "      <td>1947-09-19 00:00:00</td>\n",
       "      <td>2003-05-03 00:00:00</td>\n",
       "      <td>683 10 Street SW</td>\n",
       "      <td>Calgary</td>\n",
       "      <td>AB</td>\n",
       "      <td>Canada</td>\n",
       "      <td>T2P 5G3</td>\n",
       "      <td>+1 (403) 263-4423</td>\n",
       "      <td>+1 (403) 263-4289</td>\n",
       "      <td>margaret@chinookcorp.com</td>\n",
       "    </tr>\n",
       "    <tr>\n",
       "      <th>4</th>\n",
       "      <td>5</td>\n",
       "      <td>Johnson</td>\n",
       "      <td>Steve</td>\n",
       "      <td>Sales Support Agent</td>\n",
       "      <td>2.0</td>\n",
       "      <td>1965-03-03 00:00:00</td>\n",
       "      <td>2003-10-17 00:00:00</td>\n",
       "      <td>7727B 41 Ave</td>\n",
       "      <td>Calgary</td>\n",
       "      <td>AB</td>\n",
       "      <td>Canada</td>\n",
       "      <td>T3B 1Y7</td>\n",
       "      <td>1 (780) 836-9987</td>\n",
       "      <td>1 (780) 836-9543</td>\n",
       "      <td>steve@chinookcorp.com</td>\n",
       "    </tr>\n",
       "  </tbody>\n",
       "</table>\n",
       "</div>"
      ],
      "text/plain": [
       "   EmployeeId LastName FirstName                Title  ReportsTo  \\\n",
       "0           1    Adams    Andrew      General Manager        NaN   \n",
       "1           2  Edwards     Nancy        Sales Manager        1.0   \n",
       "2           3  Peacock      Jane  Sales Support Agent        2.0   \n",
       "3           4     Park  Margaret  Sales Support Agent        2.0   \n",
       "4           5  Johnson     Steve  Sales Support Agent        2.0   \n",
       "\n",
       "             BirthDate             HireDate              Address      City  \\\n",
       "0  1962-02-18 00:00:00  2002-08-14 00:00:00  11120 Jasper Ave NW  Edmonton   \n",
       "1  1958-12-08 00:00:00  2002-05-01 00:00:00         825 8 Ave SW   Calgary   \n",
       "2  1973-08-29 00:00:00  2002-04-01 00:00:00        1111 6 Ave SW   Calgary   \n",
       "3  1947-09-19 00:00:00  2003-05-03 00:00:00     683 10 Street SW   Calgary   \n",
       "4  1965-03-03 00:00:00  2003-10-17 00:00:00         7727B 41 Ave   Calgary   \n",
       "\n",
       "  State Country PostalCode              Phone                Fax  \\\n",
       "0    AB  Canada    T5K 2N1  +1 (780) 428-9482  +1 (780) 428-3457   \n",
       "1    AB  Canada    T2P 2T3  +1 (403) 262-3443  +1 (403) 262-3322   \n",
       "2    AB  Canada    T2P 5M5  +1 (403) 262-3443  +1 (403) 262-6712   \n",
       "3    AB  Canada    T2P 5G3  +1 (403) 263-4423  +1 (403) 263-4289   \n",
       "4    AB  Canada    T3B 1Y7   1 (780) 836-9987   1 (780) 836-9543   \n",
       "\n",
       "                      Email  \n",
       "0    andrew@chinookcorp.com  \n",
       "1     nancy@chinookcorp.com  \n",
       "2      jane@chinookcorp.com  \n",
       "3  margaret@chinookcorp.com  \n",
       "4     steve@chinookcorp.com  "
      ]
     },
     "execution_count": 18,
     "metadata": {},
     "output_type": "execute_result"
    }
   ],
   "source": [
    "df.head()"
   ]
  },
  {
   "cell_type": "code",
   "execution_count": 19,
   "id": "8dfda135-6104-4597-a0dd-b61fdd60bf23",
   "metadata": {},
   "outputs": [],
   "source": [
    "df = pd.read_sql('SELECT * FROM employees;',conn,\n",
    "                 index_col='EmployeeId',\n",
    "                 parse_dates=['BirthDate', 'HireDate'])"
   ]
  },
  {
   "cell_type": "code",
   "execution_count": 20,
   "id": "7757e272-3fab-4665-931f-62f546df99f7",
   "metadata": {},
   "outputs": [
    {
     "data": {
      "text/html": [
       "<div>\n",
       "<style scoped>\n",
       "    .dataframe tbody tr th:only-of-type {\n",
       "        vertical-align: middle;\n",
       "    }\n",
       "\n",
       "    .dataframe tbody tr th {\n",
       "        vertical-align: top;\n",
       "    }\n",
       "\n",
       "    .dataframe thead th {\n",
       "        text-align: right;\n",
       "    }\n",
       "</style>\n",
       "<table border=\"1\" class=\"dataframe\">\n",
       "  <thead>\n",
       "    <tr style=\"text-align: right;\">\n",
       "      <th></th>\n",
       "      <th>LastName</th>\n",
       "      <th>FirstName</th>\n",
       "      <th>Title</th>\n",
       "      <th>ReportsTo</th>\n",
       "      <th>BirthDate</th>\n",
       "      <th>HireDate</th>\n",
       "      <th>Address</th>\n",
       "      <th>City</th>\n",
       "      <th>State</th>\n",
       "      <th>Country</th>\n",
       "      <th>PostalCode</th>\n",
       "      <th>Phone</th>\n",
       "      <th>Fax</th>\n",
       "      <th>Email</th>\n",
       "    </tr>\n",
       "    <tr>\n",
       "      <th>EmployeeId</th>\n",
       "      <th></th>\n",
       "      <th></th>\n",
       "      <th></th>\n",
       "      <th></th>\n",
       "      <th></th>\n",
       "      <th></th>\n",
       "      <th></th>\n",
       "      <th></th>\n",
       "      <th></th>\n",
       "      <th></th>\n",
       "      <th></th>\n",
       "      <th></th>\n",
       "      <th></th>\n",
       "      <th></th>\n",
       "    </tr>\n",
       "  </thead>\n",
       "  <tbody>\n",
       "    <tr>\n",
       "      <th>1</th>\n",
       "      <td>Adams</td>\n",
       "      <td>Andrew</td>\n",
       "      <td>General Manager</td>\n",
       "      <td>NaN</td>\n",
       "      <td>1962-02-18</td>\n",
       "      <td>2002-08-14</td>\n",
       "      <td>11120 Jasper Ave NW</td>\n",
       "      <td>Edmonton</td>\n",
       "      <td>AB</td>\n",
       "      <td>Canada</td>\n",
       "      <td>T5K 2N1</td>\n",
       "      <td>+1 (780) 428-9482</td>\n",
       "      <td>+1 (780) 428-3457</td>\n",
       "      <td>andrew@chinookcorp.com</td>\n",
       "    </tr>\n",
       "    <tr>\n",
       "      <th>2</th>\n",
       "      <td>Edwards</td>\n",
       "      <td>Nancy</td>\n",
       "      <td>Sales Manager</td>\n",
       "      <td>1.0</td>\n",
       "      <td>1958-12-08</td>\n",
       "      <td>2002-05-01</td>\n",
       "      <td>825 8 Ave SW</td>\n",
       "      <td>Calgary</td>\n",
       "      <td>AB</td>\n",
       "      <td>Canada</td>\n",
       "      <td>T2P 2T3</td>\n",
       "      <td>+1 (403) 262-3443</td>\n",
       "      <td>+1 (403) 262-3322</td>\n",
       "      <td>nancy@chinookcorp.com</td>\n",
       "    </tr>\n",
       "    <tr>\n",
       "      <th>3</th>\n",
       "      <td>Peacock</td>\n",
       "      <td>Jane</td>\n",
       "      <td>Sales Support Agent</td>\n",
       "      <td>2.0</td>\n",
       "      <td>1973-08-29</td>\n",
       "      <td>2002-04-01</td>\n",
       "      <td>1111 6 Ave SW</td>\n",
       "      <td>Calgary</td>\n",
       "      <td>AB</td>\n",
       "      <td>Canada</td>\n",
       "      <td>T2P 5M5</td>\n",
       "      <td>+1 (403) 262-3443</td>\n",
       "      <td>+1 (403) 262-6712</td>\n",
       "      <td>jane@chinookcorp.com</td>\n",
       "    </tr>\n",
       "    <tr>\n",
       "      <th>4</th>\n",
       "      <td>Park</td>\n",
       "      <td>Margaret</td>\n",
       "      <td>Sales Support Agent</td>\n",
       "      <td>2.0</td>\n",
       "      <td>1947-09-19</td>\n",
       "      <td>2003-05-03</td>\n",
       "      <td>683 10 Street SW</td>\n",
       "      <td>Calgary</td>\n",
       "      <td>AB</td>\n",
       "      <td>Canada</td>\n",
       "      <td>T2P 5G3</td>\n",
       "      <td>+1 (403) 263-4423</td>\n",
       "      <td>+1 (403) 263-4289</td>\n",
       "      <td>margaret@chinookcorp.com</td>\n",
       "    </tr>\n",
       "    <tr>\n",
       "      <th>5</th>\n",
       "      <td>Johnson</td>\n",
       "      <td>Steve</td>\n",
       "      <td>Sales Support Agent</td>\n",
       "      <td>2.0</td>\n",
       "      <td>1965-03-03</td>\n",
       "      <td>2003-10-17</td>\n",
       "      <td>7727B 41 Ave</td>\n",
       "      <td>Calgary</td>\n",
       "      <td>AB</td>\n",
       "      <td>Canada</td>\n",
       "      <td>T3B 1Y7</td>\n",
       "      <td>1 (780) 836-9987</td>\n",
       "      <td>1 (780) 836-9543</td>\n",
       "      <td>steve@chinookcorp.com</td>\n",
       "    </tr>\n",
       "  </tbody>\n",
       "</table>\n",
       "</div>"
      ],
      "text/plain": [
       "           LastName FirstName                Title  ReportsTo  BirthDate  \\\n",
       "EmployeeId                                                                 \n",
       "1             Adams    Andrew      General Manager        NaN 1962-02-18   \n",
       "2           Edwards     Nancy        Sales Manager        1.0 1958-12-08   \n",
       "3           Peacock      Jane  Sales Support Agent        2.0 1973-08-29   \n",
       "4              Park  Margaret  Sales Support Agent        2.0 1947-09-19   \n",
       "5           Johnson     Steve  Sales Support Agent        2.0 1965-03-03   \n",
       "\n",
       "             HireDate              Address      City State Country PostalCode  \\\n",
       "EmployeeId                                                                      \n",
       "1          2002-08-14  11120 Jasper Ave NW  Edmonton    AB  Canada    T5K 2N1   \n",
       "2          2002-05-01         825 8 Ave SW   Calgary    AB  Canada    T2P 2T3   \n",
       "3          2002-04-01        1111 6 Ave SW   Calgary    AB  Canada    T2P 5M5   \n",
       "4          2003-05-03     683 10 Street SW   Calgary    AB  Canada    T2P 5G3   \n",
       "5          2003-10-17         7727B 41 Ave   Calgary    AB  Canada    T3B 1Y7   \n",
       "\n",
       "                        Phone                Fax                     Email  \n",
       "EmployeeId                                                                  \n",
       "1           +1 (780) 428-9482  +1 (780) 428-3457    andrew@chinookcorp.com  \n",
       "2           +1 (403) 262-3443  +1 (403) 262-3322     nancy@chinookcorp.com  \n",
       "3           +1 (403) 262-3443  +1 (403) 262-6712      jane@chinookcorp.com  \n",
       "4           +1 (403) 263-4423  +1 (403) 263-4289  margaret@chinookcorp.com  \n",
       "5            1 (780) 836-9987   1 (780) 836-9543     steve@chinookcorp.com  "
      ]
     },
     "execution_count": 20,
     "metadata": {},
     "output_type": "execute_result"
    }
   ],
   "source": [
    "df.head()"
   ]
  },
  {
   "cell_type": "code",
   "execution_count": 21,
   "id": "b6fbb591-e0f1-4b7a-8a12-4a81be31e17c",
   "metadata": {},
   "outputs": [
    {
     "name": "stdout",
     "output_type": "stream",
     "text": [
      "<class 'pandas.core.frame.DataFrame'>\n",
      "Int64Index: 8 entries, 1 to 8\n",
      "Data columns (total 14 columns):\n",
      " #   Column      Non-Null Count  Dtype         \n",
      "---  ------      --------------  -----         \n",
      " 0   LastName    8 non-null      object        \n",
      " 1   FirstName   8 non-null      object        \n",
      " 2   Title       8 non-null      object        \n",
      " 3   ReportsTo   7 non-null      float64       \n",
      " 4   BirthDate   8 non-null      datetime64[ns]\n",
      " 5   HireDate    8 non-null      datetime64[ns]\n",
      " 6   Address     8 non-null      object        \n",
      " 7   City        8 non-null      object        \n",
      " 8   State       8 non-null      object        \n",
      " 9   Country     8 non-null      object        \n",
      " 10  PostalCode  8 non-null      object        \n",
      " 11  Phone       8 non-null      object        \n",
      " 12  Fax         8 non-null      object        \n",
      " 13  Email       8 non-null      object        \n",
      "dtypes: datetime64[ns](2), float64(1), object(11)\n",
      "memory usage: 960.0+ bytes\n"
     ]
    }
   ],
   "source": [
    "df.info()"
   ]
  },
  {
   "cell_type": "code",
   "execution_count": 22,
   "id": "b48b7525-5625-40c1-a032-59d604a82d2f",
   "metadata": {},
   "outputs": [
    {
     "data": {
      "text/plain": [
       "1"
      ]
     },
     "execution_count": 22,
     "metadata": {},
     "output_type": "execute_result"
    }
   ],
   "source": [
    "df['ReportsTo'].isna().sum()"
   ]
  },
  {
   "cell_type": "code",
   "execution_count": 23,
   "id": "97ee007c-6179-4c23-800d-398e8c7d531d",
   "metadata": {},
   "outputs": [
    {
     "data": {
      "text/plain": [
       "2.857142857142857"
      ]
     },
     "execution_count": 23,
     "metadata": {},
     "output_type": "execute_result"
    }
   ],
   "source": [
    "df['ReportsTo'].mean()"
   ]
  },
  {
   "cell_type": "code",
   "execution_count": 24,
   "id": "bc8f214c-d0fa-41ee-a8f4-25cfb7769465",
   "metadata": {},
   "outputs": [
    {
     "data": {
      "text/plain": [
       "EmployeeId\n",
       "1    False\n",
       "2    False\n",
       "3     True\n",
       "4     True\n",
       "5     True\n",
       "6    False\n",
       "7     True\n",
       "8     True\n",
       "Name: ReportsTo, dtype: bool"
      ]
     },
     "execution_count": 24,
     "metadata": {},
     "output_type": "execute_result"
    }
   ],
   "source": [
    "df['ReportsTo'] > 1.75"
   ]
  },
  {
   "cell_type": "code",
   "execution_count": 25,
   "id": "0ba78805-9e07-4275-b46b-bbbd08790730",
   "metadata": {},
   "outputs": [],
   "source": [
    "df['City'] = df['City'].astype('category')"
   ]
  },
  {
   "cell_type": "code",
   "execution_count": 26,
   "id": "b2fe9863-a23f-49a9-a17d-344eae1ad936",
   "metadata": {},
   "outputs": [
    {
     "name": "stdout",
     "output_type": "stream",
     "text": [
      "<class 'pandas.core.frame.DataFrame'>\n",
      "Int64Index: 8 entries, 1 to 8\n",
      "Data columns (total 14 columns):\n",
      " #   Column      Non-Null Count  Dtype         \n",
      "---  ------      --------------  -----         \n",
      " 0   LastName    8 non-null      object        \n",
      " 1   FirstName   8 non-null      object        \n",
      " 2   Title       8 non-null      object        \n",
      " 3   ReportsTo   7 non-null      float64       \n",
      " 4   BirthDate   8 non-null      datetime64[ns]\n",
      " 5   HireDate    8 non-null      datetime64[ns]\n",
      " 6   Address     8 non-null      object        \n",
      " 7   City        8 non-null      category      \n",
      " 8   State       8 non-null      object        \n",
      " 9   Country     8 non-null      object        \n",
      " 10  PostalCode  8 non-null      object        \n",
      " 11  Phone       8 non-null      object        \n",
      " 12  Fax         8 non-null      object        \n",
      " 13  Email       8 non-null      object        \n",
      "dtypes: category(1), datetime64[ns](2), float64(1), object(10)\n",
      "memory usage: 1.0+ KB\n"
     ]
    }
   ],
   "source": [
    "df.info()"
   ]
  },
  {
   "cell_type": "markdown",
   "id": "0f0777a6-0715-4023-a292-77df784b1ca5",
   "metadata": {},
   "source": [
    "### Using pandas read_sql_query method"
   ]
  },
  {
   "cell_type": "markdown",
   "id": "4ae9a38c-79d8-4e29-a5f7-24cb719888a6",
   "metadata": {},
   "source": [
    "##### It turns out that the read_sql method we saw above is just the wrapper around read_sql_query and read_sql_table\n",
    "##### We can get the same result using read_sql_query method"
   ]
  },
  {
   "cell_type": "code",
   "execution_count": 27,
   "id": "4eb8b8f2-bd9e-4850-8fc9-aff3a1f663cd",
   "metadata": {},
   "outputs": [],
   "source": [
    "conn = sqlite3.connect('C:\\\\Users\\\\user\\\\Downloads\\\\chinook.db')"
   ]
  },
  {
   "cell_type": "code",
   "execution_count": 28,
   "id": "1cee7ddd-9232-46bd-bfc1-9a3c3599675b",
   "metadata": {},
   "outputs": [],
   "source": [
    "conn = sqlite3.connect('chinook.db')"
   ]
  },
  {
   "cell_type": "code",
   "execution_count": 29,
   "id": "e80df3e8-68a1-4965-ab88-f02a3b0feb66",
   "metadata": {},
   "outputs": [
    {
     "ename": "DatabaseError",
     "evalue": "Execution failed on sql 'SELECT * FROM employees LIMIT 5': no such table: employees",
     "output_type": "error",
     "traceback": [
      "\u001b[1;31m---------------------------------------------------------------------------\u001b[0m",
      "\u001b[1;31mOperationalError\u001b[0m                          Traceback (most recent call last)",
      "\u001b[1;32m~\\anaconda3\\lib\\site-packages\\pandas\\io\\sql.py\u001b[0m in \u001b[0;36mexecute\u001b[1;34m(self, *args, **kwargs)\u001b[0m\n\u001b[0;32m   2055\u001b[0m         \u001b[1;32mtry\u001b[0m\u001b[1;33m:\u001b[0m\u001b[1;33m\u001b[0m\u001b[1;33m\u001b[0m\u001b[0m\n\u001b[1;32m-> 2056\u001b[1;33m             \u001b[0mcur\u001b[0m\u001b[1;33m.\u001b[0m\u001b[0mexecute\u001b[0m\u001b[1;33m(\u001b[0m\u001b[1;33m*\u001b[0m\u001b[0margs\u001b[0m\u001b[1;33m,\u001b[0m \u001b[1;33m**\u001b[0m\u001b[0mkwargs\u001b[0m\u001b[1;33m)\u001b[0m\u001b[1;33m\u001b[0m\u001b[1;33m\u001b[0m\u001b[0m\n\u001b[0m\u001b[0;32m   2057\u001b[0m             \u001b[1;32mreturn\u001b[0m \u001b[0mcur\u001b[0m\u001b[1;33m\u001b[0m\u001b[1;33m\u001b[0m\u001b[0m\n",
      "\u001b[1;31mOperationalError\u001b[0m: no such table: employees",
      "\nThe above exception was the direct cause of the following exception:\n",
      "\u001b[1;31mDatabaseError\u001b[0m                             Traceback (most recent call last)",
      "\u001b[1;32m~\\AppData\\Local\\Temp/ipykernel_3384/1282862834.py\u001b[0m in \u001b[0;36m<module>\u001b[1;34m\u001b[0m\n\u001b[1;32m----> 1\u001b[1;33m \u001b[0mdf\u001b[0m \u001b[1;33m=\u001b[0m \u001b[0mpd\u001b[0m\u001b[1;33m.\u001b[0m\u001b[0mread_sql_query\u001b[0m\u001b[1;33m(\u001b[0m\u001b[1;34m'SELECT * FROM employees LIMIT 5'\u001b[0m\u001b[1;33m,\u001b[0m \u001b[0mconn\u001b[0m\u001b[1;33m)\u001b[0m\u001b[1;33m\u001b[0m\u001b[1;33m\u001b[0m\u001b[0m\n\u001b[0m",
      "\u001b[1;32m~\\anaconda3\\lib\\site-packages\\pandas\\io\\sql.py\u001b[0m in \u001b[0;36mread_sql_query\u001b[1;34m(sql, con, index_col, coerce_float, params, parse_dates, chunksize, dtype)\u001b[0m\n\u001b[0;32m    434\u001b[0m     \"\"\"\n\u001b[0;32m    435\u001b[0m     \u001b[0mpandas_sql\u001b[0m \u001b[1;33m=\u001b[0m \u001b[0mpandasSQL_builder\u001b[0m\u001b[1;33m(\u001b[0m\u001b[0mcon\u001b[0m\u001b[1;33m)\u001b[0m\u001b[1;33m\u001b[0m\u001b[1;33m\u001b[0m\u001b[0m\n\u001b[1;32m--> 436\u001b[1;33m     return pandas_sql.read_query(\n\u001b[0m\u001b[0;32m    437\u001b[0m         \u001b[0msql\u001b[0m\u001b[1;33m,\u001b[0m\u001b[1;33m\u001b[0m\u001b[1;33m\u001b[0m\u001b[0m\n\u001b[0;32m    438\u001b[0m         \u001b[0mindex_col\u001b[0m\u001b[1;33m=\u001b[0m\u001b[0mindex_col\u001b[0m\u001b[1;33m,\u001b[0m\u001b[1;33m\u001b[0m\u001b[1;33m\u001b[0m\u001b[0m\n",
      "\u001b[1;32m~\\anaconda3\\lib\\site-packages\\pandas\\io\\sql.py\u001b[0m in \u001b[0;36mread_query\u001b[1;34m(self, sql, index_col, coerce_float, params, parse_dates, chunksize, dtype)\u001b[0m\n\u001b[0;32m   2114\u001b[0m \u001b[1;33m\u001b[0m\u001b[0m\n\u001b[0;32m   2115\u001b[0m         \u001b[0margs\u001b[0m \u001b[1;33m=\u001b[0m \u001b[0m_convert_params\u001b[0m\u001b[1;33m(\u001b[0m\u001b[0msql\u001b[0m\u001b[1;33m,\u001b[0m \u001b[0mparams\u001b[0m\u001b[1;33m)\u001b[0m\u001b[1;33m\u001b[0m\u001b[1;33m\u001b[0m\u001b[0m\n\u001b[1;32m-> 2116\u001b[1;33m         \u001b[0mcursor\u001b[0m \u001b[1;33m=\u001b[0m \u001b[0mself\u001b[0m\u001b[1;33m.\u001b[0m\u001b[0mexecute\u001b[0m\u001b[1;33m(\u001b[0m\u001b[1;33m*\u001b[0m\u001b[0margs\u001b[0m\u001b[1;33m)\u001b[0m\u001b[1;33m\u001b[0m\u001b[1;33m\u001b[0m\u001b[0m\n\u001b[0m\u001b[0;32m   2117\u001b[0m         \u001b[0mcolumns\u001b[0m \u001b[1;33m=\u001b[0m \u001b[1;33m[\u001b[0m\u001b[0mcol_desc\u001b[0m\u001b[1;33m[\u001b[0m\u001b[1;36m0\u001b[0m\u001b[1;33m]\u001b[0m \u001b[1;32mfor\u001b[0m \u001b[0mcol_desc\u001b[0m \u001b[1;32min\u001b[0m \u001b[0mcursor\u001b[0m\u001b[1;33m.\u001b[0m\u001b[0mdescription\u001b[0m\u001b[1;33m]\u001b[0m\u001b[1;33m\u001b[0m\u001b[1;33m\u001b[0m\u001b[0m\n\u001b[0;32m   2118\u001b[0m \u001b[1;33m\u001b[0m\u001b[0m\n",
      "\u001b[1;32m~\\anaconda3\\lib\\site-packages\\pandas\\io\\sql.py\u001b[0m in \u001b[0;36mexecute\u001b[1;34m(self, *args, **kwargs)\u001b[0m\n\u001b[0;32m   2066\u001b[0m \u001b[1;33m\u001b[0m\u001b[0m\n\u001b[0;32m   2067\u001b[0m             \u001b[0mex\u001b[0m \u001b[1;33m=\u001b[0m \u001b[0mDatabaseError\u001b[0m\u001b[1;33m(\u001b[0m\u001b[1;34mf\"Execution failed on sql '{args[0]}': {exc}\"\u001b[0m\u001b[1;33m)\u001b[0m\u001b[1;33m\u001b[0m\u001b[1;33m\u001b[0m\u001b[0m\n\u001b[1;32m-> 2068\u001b[1;33m             \u001b[1;32mraise\u001b[0m \u001b[0mex\u001b[0m \u001b[1;32mfrom\u001b[0m \u001b[0mexc\u001b[0m\u001b[1;33m\u001b[0m\u001b[1;33m\u001b[0m\u001b[0m\n\u001b[0m\u001b[0;32m   2069\u001b[0m \u001b[1;33m\u001b[0m\u001b[0m\n\u001b[0;32m   2070\u001b[0m     \u001b[1;33m@\u001b[0m\u001b[0mstaticmethod\u001b[0m\u001b[1;33m\u001b[0m\u001b[1;33m\u001b[0m\u001b[0m\n",
      "\u001b[1;31mDatabaseError\u001b[0m: Execution failed on sql 'SELECT * FROM employees LIMIT 5': no such table: employees"
     ]
    }
   ],
   "source": [
    "df = pd.read_sql_query('SELECT * FROM employees LIMIT 5', conn)"
   ]
  },
  {
   "cell_type": "code",
   "execution_count": null,
   "id": "c860e6f0-4c12-4906-8064-253df9963e48",
   "metadata": {},
   "outputs": [],
   "source": [
    "df.head()"
   ]
  },
  {
   "cell_type": "code",
   "execution_count": null,
   "id": "31743d4d-eb07-4a20-8fcf-4b010d613c14",
   "metadata": {},
   "outputs": [],
   "source": [
    "df = pd.read_sql_query('employees', conn,\n",
    "                 index_col='EmployeeId',\n",
    "                 parse_dates=['BirthDate', 'HireDate'])"
   ]
  },
  {
   "cell_type": "code",
   "execution_count": null,
   "id": "807ddd7e-12a3-4e36-bd36-13658f74b506",
   "metadata": {},
   "outputs": [],
   "source": [
    "df.head()"
   ]
  },
  {
   "cell_type": "markdown",
   "id": "62d9fb28-133c-449b-a959-84d7bd90f3dd",
   "metadata": {
    "tags": []
   },
   "source": [
    "#### Using read_sql table method"
   ]
  },
  {
   "cell_type": "markdown",
   "id": "ad1a8909-aa7c-43d8-bf74-cf5b2e0f7a14",
   "metadata": {},
   "source": [
    "##### read_sql_table is a useful function, but it works only with SQLAlchemy, a  Python SQL Toolkitmand  Object Relational Mapper.\n",
    "#### This is just a demonstration of its usage where we read the whole employees table."
   ]
  },
  {
   "cell_type": "code",
   "execution_count": null,
   "id": "18a5607a-2fe0-45a8-ab23-936694cab54c",
   "metadata": {},
   "outputs": [],
   "source": [
    "from sqlalchemy import create_engine"
   ]
  },
  {
   "cell_type": "code",
   "execution_count": null,
   "id": "dec9596f-6650-450c-82fd-7f6233b2ff42",
   "metadata": {},
   "outputs": [],
   "source": [
    "engine = create_engine('sqlite:///chinook.db')"
   ]
  },
  {
   "cell_type": "code",
   "execution_count": null,
   "id": "04bc1374-9691-4b3a-b1c4-ecef2baf367d",
   "metadata": {},
   "outputs": [],
   "source": [
    "connection = engine.connect()"
   ]
  },
  {
   "cell_type": "code",
   "execution_count": null,
   "id": "0824532f-ca9e-458d-b250-edb118c866f9",
   "metadata": {},
   "outputs": [],
   "source": [
    "df = pd.read_sql_table('employees', con=connection)"
   ]
  },
  {
   "cell_type": "code",
   "execution_count": null,
   "id": "2e050b82-dc6f-4670-bb2d-8ff5819dccd3",
   "metadata": {},
   "outputs": [],
   "source": [
    "df.head()"
   ]
  },
  {
   "cell_type": "code",
   "execution_count": null,
   "id": "74ecaa49-47b3-4615-b7ed-8620b51519c8",
   "metadata": {},
   "outputs": [],
   "source": [
    "df = pd.read_sql_table('employees', con=connection,\n",
    "                 index_col='EmployeeId',\n",
    "                 parse_dates=['BirthDate', 'HireDate'])"
   ]
  },
  {
   "cell_type": "code",
   "execution_count": null,
   "id": "b6a16fdf-2cff-4982-a817-fb4a0c08170a",
   "metadata": {},
   "outputs": [],
   "source": [
    "df.head()"
   ]
  },
  {
   "cell_type": "code",
   "execution_count": null,
   "id": "cc442963-6df0-4459-a997-d4145a56882f",
   "metadata": {},
   "outputs": [],
   "source": [
    "connection.close()"
   ]
  },
  {
   "cell_type": "markdown",
   "id": "fbd5a7be-5ec8-4862-95b3-345f719531a7",
   "metadata": {
    "tags": []
   },
   "source": [
    "#### Create tables from DataFrame objects"
   ]
  },
  {
   "cell_type": "markdown",
   "id": "7bee31c2-7058-43d0-a3f4-1129b64dde1e",
   "metadata": {},
   "source": [
    "##### We can persist DataFrame objects we are working on in the database using the pandas to_sql method"
   ]
  },
  {
   "cell_type": "markdown",
   "id": "a6c5b397-82bd-44c9-b1bd-b73915698b33",
   "metadata": {},
   "source": [
    "##### Although this method is easy to implement, it can be slow"
   ]
  },
  {
   "cell_type": "code",
   "execution_count": null,
   "id": "fc75f662-ae9a-4cf9-8a56-a7cf583449b4",
   "metadata": {},
   "outputs": [],
   "source": [
    "df.head()"
   ]
  },
  {
   "cell_type": "markdown",
   "id": "8906c966-c233-4014-b907-9b820d7e90f8",
   "metadata": {},
   "source": [
    "##### Drop the table if needed"
   ]
  },
  {
   "cell_type": "code",
   "execution_count": null,
   "id": "9cef542b-51da-445c-a360-d85cc3f95c2e",
   "metadata": {},
   "outputs": [],
   "source": [
    "df.to_sql?"
   ]
  },
  {
   "cell_type": "code",
   "execution_count": null,
   "id": "30803932-fa15-49a9-a166-4edb62c6354a",
   "metadata": {},
   "outputs": [],
   "source": [
    "cur = conn.cursor()"
   ]
  },
  {
   "cell_type": "code",
   "execution_count": null,
   "id": "4f1708cc-bda6-48e9-8364-953b59eaf949",
   "metadata": {},
   "outputs": [],
   "source": [
    "cur.execute('DROP TABLE IF EXISTS employees2;')"
   ]
  },
  {
   "cell_type": "code",
   "execution_count": null,
   "id": "1539bc0b-6455-4aeb-99a0-27df49bc5426",
   "metadata": {},
   "outputs": [],
   "source": [
    "cur.close()"
   ]
  },
  {
   "cell_type": "code",
   "execution_count": null,
   "id": "2285db0d-e18f-46b7-9e11-5261d0f81ccd",
   "metadata": {},
   "outputs": [],
   "source": [
    "df.to_sql('employee2',conn)"
   ]
  },
  {
   "cell_type": "code",
   "execution_count": null,
   "id": "87fd5735-8205-4dc1-b099-fb169e55cfa7",
   "metadata": {},
   "outputs": [],
   "source": [
    "pd.read_sql_query('SELECT * FROM employees2;', conn).head()"
   ]
  },
  {
   "cell_type": "markdown",
   "id": "a0b330af-75ec-4388-b11f-01fd8cccd369",
   "metadata": {},
   "source": [
    "#### Custom behavior"
   ]
  },
  {
   "cell_type": "markdown",
   "id": "2cfd2481-ea8b-418e-930a-92d2565f894c",
   "metadata": {},
   "source": [
    "##### The if_exists parameter define how to behave if the table already exists and add a tone of flexibility letting you to decide whether to replace \n",
    "##### current table data,append new data at the end or simply fail if table already exists."
   ]
  },
  {
   "cell_type": "code",
   "execution_count": null,
   "id": "dd9cc3e9-f454-4bb5-8b3e-26856775c645",
   "metadata": {},
   "outputs": [],
   "source": [
    "pd.DataFrame().to_sql('employees2',\n",
    "                      conn,\n",
    "                      if_exists='replace')"
   ]
  },
  {
   "cell_type": "code",
   "execution_count": null,
   "id": "1ccf2fe2-7030-4369-b990-f58f2f6b7916",
   "metadata": {},
   "outputs": [],
   "source": [
    "pd.read_sql_query('SELECT * FROM employees2;', conn).head()"
   ]
  },
  {
   "cell_type": "code",
   "execution_count": null,
   "id": "b7544be6-615e-48cb-868b-9ca4a3965d6e",
   "metadata": {},
   "outputs": [],
   "source": [
    "df.to_sql('employees2',\n",
    "                      conn,\n",
    "                      if_exists='replace')"
   ]
  },
  {
   "cell_type": "code",
   "execution_count": null,
   "id": "99c18cb3-c114-4f97-b971-4a1d3e0cb768",
   "metadata": {},
   "outputs": [],
   "source": [
    "pd.read_sql_query('SELECT * FROM employees2;', conn).head()"
   ]
  },
  {
   "cell_type": "code",
   "execution_count": null,
   "id": "924a3c10-f43e-4b64-a814-811eb4651aa6",
   "metadata": {},
   "outputs": [],
   "source": [
    "import sqlite3"
   ]
  },
  {
   "cell_type": "code",
   "execution_count": null,
   "id": "a434126d-27c3-4018-97c9-77a90f135fa0",
   "metadata": {},
   "outputs": [],
   "source": [
    "# using sql function to create table\n",
    "connection = sqlite3.connect('data.db')\n",
    "\n",
    "# cursor = connection.cursor()\n",
    "\n",
    "# cursor.execute(\"CREATE TABLE STUDENT (Name text, Gender text)\")\n",
    "# cursor.execute(\"INSERT INTO STUDENT VALUES('Max', 'M')\") \n",
    "# cursor.execute(\"INSERT INTO STUDENT VALUES('Sally', 'F')\") \n",
    "# cursor.execute(\"INSERT INTO STUDENT VALUES('Sarah', 'F')\") \n",
    "\n",
    "# connection.commit()\n",
    "\n",
    "# connection.close()"
   ]
  },
  {
   "cell_type": "code",
   "execution_count": null,
   "id": "cd37152e-40b2-49dc-9b1d-bb8e0619558f",
   "metadata": {},
   "outputs": [],
   "source": [
    "connection = sqlite3.connect('data.db')"
   ]
  },
  {
   "cell_type": "code",
   "execution_count": null,
   "id": "668eb92b-30d7-4221-b428-b573aa6f41d7",
   "metadata": {},
   "outputs": [],
   "source": [
    "cursor = connection.cursor()"
   ]
  },
  {
   "cell_type": "code",
   "execution_count": null,
   "id": "30140f47-21cc-45ed-b952-520eb9c36a8f",
   "metadata": {},
   "outputs": [],
   "source": [
    "df2 = pd.read_sql('select * from student', connection)"
   ]
  },
  {
   "cell_type": "code",
   "execution_count": null,
   "id": "25318439-f020-44b6-843c-73c48fbda75e",
   "metadata": {},
   "outputs": [],
   "source": [
    "df2.head()"
   ]
  },
  {
   "cell_type": "markdown",
   "id": "f1dc276e-c936-4bfb-9ec7-6d948e7e7664",
   "metadata": {
    "tags": []
   },
   "source": [
    "### How to read some HTML files"
   ]
  },
  {
   "cell_type": "code",
   "execution_count": null,
   "id": "1f766a3e-3348-4c67-867b-b3667d1367f7",
   "metadata": {},
   "outputs": [],
   "source": []
  },
  {
   "cell_type": "markdown",
   "id": "43d9b9f8-5a9d-4914-a3d4-98f3d261ee3a",
   "metadata": {
    "tags": []
   },
   "source": [
    "##### HTML means HyperText Markup Language support."
   ]
  },
  {
   "cell_type": "code",
   "execution_count": null,
   "id": "1e3dbfef-ba26-4cfb-b037-f9647494bd8b",
   "metadata": {},
   "outputs": [],
   "source": [
    "##### creating a good html file depends on the structure of the web page. it is a very quick way of hacking,you can use wekipidia site to get\n",
    "##### information about a country,s gdp data set, you will see a table and you can directly parse it"
   ]
  },
  {
   "cell_type": "markdown",
   "id": "78f38363-4793-4624-9662-cc9f6327eaac",
   "metadata": {},
   "source": [
    "#### Loading data"
   ]
  },
  {
   "cell_type": "code",
   "execution_count": null,
   "id": "5cd4b6e2-f5ae-45dd-b037-5be155ef0507",
   "metadata": {},
   "outputs": [],
   "source": [
    "!pip install lxml"
   ]
  },
  {
   "cell_type": "code",
   "execution_count": null,
   "id": "8b58c4a0-1e54-4250-bcf1-2b950c1a77d0",
   "metadata": {},
   "outputs": [],
   "source": [
    "import pandas as pd"
   ]
  },
  {
   "cell_type": "markdown",
   "id": "4e806c5c-eca4-4fd6-8a6d-388cbc8356d6",
   "metadata": {},
   "source": [
    "### Parsing raw HTML strings"
   ]
  },
  {
   "cell_type": "markdown",
   "id": "43eaa731-b757-4a46-aa8e-f7ac7ceb6949",
   "metadata": {},
   "source": [
    "##### Another useful pandas method is read_html() . This method will read HTML tables from a given URL.A file=like object or a raw string\n",
    "##### containing HTML and returns a list or DataFrame objects."
   ]
  },
  {
   "cell_type": "markdown",
   "id": "e4fcad06-9399-4b54-b19f-e5991c59032f",
   "metadata": {
    "jp-MarkdownHeadingCollapsed": true,
    "tags": []
   },
   "source": [
    "##### Let us try to read the following HTML into a DataFrame."
   ]
  },
  {
   "cell_type": "markdown",
   "id": "f4459f3b-590d-48cc-8645-6e070b10c5af",
   "metadata": {
    "tags": []
   },
   "source": [
    "##### * (open sample html for the working example)"
   ]
  },
  {
   "cell_type": "code",
   "execution_count": null,
   "id": "081b9933-60ed-4a85-962a-125258700a23",
   "metadata": {},
   "outputs": [],
   "source": [
    "html_string = \"\"\"\n",
    "<table>\n",
    "    <thead>\n",
    "      <tr>\n",
    "        <th>Order date</th>\n",
    "        <th>Region</th> \n",
    "        <th>Item</th>\n",
    "        <th>Units</th>\n",
    "        <th>Unit cost</th>\n",
    "      </tr>\n",
    "    </thead>\n",
    "    <tbody>\n",
    "      <tr>\n",
    "        <td>1/6/2018</td>\n",
    "        <td>East</td> \n",
    "        <td>Pencil</td>\n",
    "        <td>95</td>\n",
    "        <td>1.99</td>\n",
    "      </tr>\n",
    "      <tr>\n",
    "        <td>1/23/2018</td>\n",
    "        <td>Central</td> \n",
    "        <td>Binder</td>\n",
    "        <td>50</td>\n",
    "        <td>19.99</td>\n",
    "      </tr>\n",
    "    <tr>\n",
    "        <td>2/9/2018</td>\n",
    "        <td>Central</td> \n",
    "        <td>Pencil</td>\n",
    "        <td>36</td>\n",
    "        <td>4.99</td>\n",
    "      </tr>\n",
    "      <tr>\n",
    "        <td>3/15/2018</td>\n",
    "        <td>West</td> \n",
    "        <td>Pen</td>\n",
    "        <td>27</td>\n",
    "        <td>19.99</td>\n",
    "      </tr>\n",
    "    </tbody>\n",
    "</table>\n",
    "\"\"\""
   ]
  },
  {
   "cell_type": "code",
   "execution_count": null,
   "id": "f82b6936-b3af-49cb-a86b-8ee78b552cbf",
   "metadata": {},
   "outputs": [],
   "source": [
    "from Ipython.core.display import display, HTML\n",
    "display(HTML(html_string))"
   ]
  },
  {
   "cell_type": "code",
   "execution_count": null,
   "id": "c98d2540-55c7-47d2-b89d-b8c53a2f5705",
   "metadata": {},
   "outputs": [],
   "source": [
    "# This helps to look for multiple tables."
   ]
  },
  {
   "cell_type": "code",
   "execution_count": null,
   "id": "82babc1c-4380-40c0-98ae-b725e108a14b",
   "metadata": {},
   "outputs": [],
   "source": [
    "dfs = pd.read_html(html_string)"
   ]
  },
  {
   "cell_type": "markdown",
   "id": "b44525af-78be-4f4d-a1ba-f3e321905c34",
   "metadata": {},
   "source": [
    "##### The read_html just returned one DataFrame object"
   ]
  },
  {
   "cell_type": "code",
   "execution_count": null,
   "id": "f910244b-fc7c-4923-863f-14a82dcce60d",
   "metadata": {},
   "outputs": [],
   "source": [
    "lens(dfs)"
   ]
  },
  {
   "cell_type": "code",
   "execution_count": null,
   "id": "987b1e25-760c-4c75-8d13-b1c7c58abd59",
   "metadata": {},
   "outputs": [],
   "source": [
    "df = dfs(0)"
   ]
  },
  {
   "cell_type": "code",
   "execution_count": null,
   "id": "645a6af6-2c65-46b2-a6d7-e983e66b4f56",
   "metadata": {},
   "outputs": [],
   "source": [
    "df"
   ]
  },
  {
   "cell_type": "markdown",
   "id": "9160b74e-d429-41d3-aed8-54033de94f0d",
   "metadata": {},
   "source": [
    "##### Previous DataFrame looks quite similar to the raw HTML table,but now we have a DataFrame object so we can apply any pandas operation we want to it."
   ]
  },
  {
   "cell_type": "code",
   "execution_count": null,
   "id": "07209935-7dad-4aea-ad75-c04d57534faf",
   "metadata": {},
   "outputs": [],
   "source": [
    "df.shape"
   ]
  },
  {
   "cell_type": "code",
   "execution_count": null,
   "id": "7b051f9f-9056-46c9-ab1c-dcd719891d7a",
   "metadata": {},
   "outputs": [],
   "source": [
    "df.loc[df['Region'] == 'Central']"
   ]
  },
  {
   "cell_type": "code",
   "execution_count": null,
   "id": "90ceef26-8f4b-4562-9fc8-3ca27467d784",
   "metadata": {},
   "outputs": [],
   "source": [
    "df.loc[df['Units'] > 35]"
   ]
  },
  {
   "cell_type": "markdown",
   "id": "c4614971-29da-4a49-b000-c9bc8906287c",
   "metadata": {},
   "source": [
    "#### Defining header\n",
    "##### Hyper text back up language"
   ]
  },
  {
   "cell_type": "markdown",
   "id": "fd5a77ab-f18c-4fb9-83a1-5af52ad859d9",
   "metadata": {
    "tags": []
   },
   "source": [
    "##### Pandas will automatically find the header to use thanks to the tag"
   ]
  },
  {
   "cell_type": "markdown",
   "id": "d4f7d050-8685-4dc1-a32f-f2ae015307df",
   "metadata": {},
   "source": [
    "##### But in many cases we will find wrong or incomplete tables that makes the read_html method parse the table in a wrong way without the proper headers."
   ]
  },
  {
   "cell_type": "markdown",
   "id": "c2f251e6-ce6e-45e5-b180-77921fc3caa7",
   "metadata": {},
   "source": [
    "###### To fix them we can use the header parameter"
   ]
  },
  {
   "cell_type": "code",
   "execution_count": null,
   "id": "4a449e93-13e4-4f45-b544-fc3452c3be7c",
   "metadata": {},
   "outputs": [],
   "source": [
    "html_string = \"\"\"\n",
    "<table>\n",
    "    <thead>\n",
    "      <tr>\n",
    "        <th>Order date</th>\n",
    "        <th>Region</th> \n",
    "        <th>Item</th>\n",
    "        <th>Units</th>\n",
    "        <th>Unit cost</th>\n",
    "      </tr>\n",
    "    </thead>\n",
    "    <tbody>\n",
    "      <tr>\n",
    "        <td>1/6/2018</td>\n",
    "        <td>East</td> \n",
    "        <td>Pencil</td>\n",
    "        <td>95</td>\n",
    "        <td>1.99</td>\n",
    "      </tr>\n",
    "      <tr>\n",
    "        <td>1/23/2018</td>\n",
    "        <td>Central</td> \n",
    "        <td>Binder</td>\n",
    "        <td>50</td>\n",
    "        <td>19.99</td>\n",
    "      </tr>\n",
    "    <tr>\n",
    "        <td>2/9/2018</td>\n",
    "        <td>Central</td> \n",
    "        <td>Pencil</td>\n",
    "        <td>36</td>\n",
    "        <td>4.99</td>\n",
    "      </tr>\n",
    "      <tr>\n",
    "        <td>3/15/2018</td>\n",
    "        <td>West</td> \n",
    "        <td>Pen</td>\n",
    "        <td>27</td>\n",
    "        <td>19.99</td>\n",
    "      </tr>\n",
    "    </tbody>\n",
    "</table>\n",
    "\"\"\""
   ]
  },
  {
   "cell_type": "code",
   "execution_count": null,
   "id": "76370bd5-857b-48ae-a657-e92b0e1671b9",
   "metadata": {},
   "outputs": [],
   "source": []
  },
  {
   "cell_type": "code",
   "execution_count": null,
   "id": "8c38636f-2f5c-40e5-baf0-a397c42d3db8",
   "metadata": {},
   "outputs": [],
   "source": [
    "pd.read_html(html_string)[0]"
   ]
  },
  {
   "cell_type": "markdown",
   "id": "314f0545-a69a-464d-a21e-471856aa59e0",
   "metadata": {},
   "source": [
    "##### In this case, we will need to pass the row number to use as header using the header parameter."
   ]
  },
  {
   "cell_type": "code",
   "execution_count": null,
   "id": "18518fb3-9ab2-4995-9772-12a4258bccab",
   "metadata": {},
   "outputs": [],
   "source": [
    "pd.read_html(html_string, header=0),[0]"
   ]
  },
  {
   "cell_type": "markdown",
   "id": "e7cde13c-2e5e-4bc4-89fe-6dca685caa13",
   "metadata": {},
   "source": [
    "#### Parsing html tables from the web"
   ]
  },
  {
   "cell_type": "markdown",
   "id": "3170b6db-685c-4466-a905-71533069f043",
   "metadata": {},
   "source": [
    "##### Now that we know how read_html works, go one step beyond and try to parse HTML tables directly from an URL"
   ]
  },
  {
   "cell_type": "markdown",
   "id": "9b2e1a2e-889f-43da-8d2b-8912444c150a",
   "metadata": {},
   "source": [
    "##### To do that we will call the read_html method with an url as parameter."
   ]
  },
  {
   "cell_type": "markdown",
   "id": "9220507c-9abf-4c35-b564-9684e2dd1b7c",
   "metadata": {},
   "source": [
    "#### Simple example"
   ]
  },
  {
   "cell_type": "code",
   "execution_count": null,
   "id": "3726b35e-564b-444c-8b6a-fa638355f42f",
   "metadata": {},
   "outputs": [],
   "source": [
    "# html_url = \"https://www.basketball-reference.com/leagues/NBA_2019_per_game.html\""
   ]
  },
  {
   "cell_type": "code",
   "execution_count": null,
   "id": "b9f903a0-270c-4c5f-bf14-9aaaf896ffb8",
   "metadata": {},
   "outputs": [],
   "source": [
    "# https://www.basketball-reference.com/leagues/NBA_2"
   ]
  },
  {
   "cell_type": "code",
   "execution_count": null,
   "id": "ed6902e5-db89-435f-82dc-03669ec4babd",
   "metadata": {},
   "outputs": [],
   "source": [
    "html_url = 'https://www.basketball-reference.com/leagues/NBA_2019_per_game.html'"
   ]
  },
  {
   "cell_type": "code",
   "execution_count": null,
   "id": "00c69d84-75b4-482c-91c1-76abab1c5bc7",
   "metadata": {},
   "outputs": [],
   "source": [
    "nba_tables = pd.read_html(html_url)"
   ]
  },
  {
   "cell_type": "code",
   "execution_count": null,
   "id": "f7a58e41-e3d3-4157-995b-7a936b493631",
   "metadata": {},
   "outputs": [],
   "source": [
    "len(nba_tables)"
   ]
  },
  {
   "cell_type": "markdown",
   "id": "ddb1fef0-e0b0-4355-ba50-06621a1083c7",
   "metadata": {},
   "source": [
    "##### We will work with  only one table found"
   ]
  },
  {
   "cell_type": "code",
   "execution_count": null,
   "id": "426464ec-898d-455c-85af-71db268fdacc",
   "metadata": {},
   "outputs": [],
   "source": [
    "nba=nba_tables[0]"
   ]
  },
  {
   "cell_type": "code",
   "execution_count": null,
   "id": "c5610e2b-3027-4f4e-8f3e-06311e0e0507",
   "metadata": {},
   "outputs": [],
   "source": [
    "nba.head()"
   ]
  },
  {
   "cell_type": "code",
   "execution_count": null,
   "id": "b4194558-98bf-4846-936a-776ba26dbf64",
   "metadata": {},
   "outputs": [],
   "source": [
    "#nunique means number of unique value"
   ]
  },
  {
   "cell_type": "code",
   "execution_count": null,
   "id": "0516b65e-32b9-4b2b-b416-d2487a885c09",
   "metadata": {},
   "outputs": [],
   "source": [
    "#Read_sql means that you can read all the table"
   ]
  },
  {
   "cell_type": "code",
   "execution_count": null,
   "id": "1296070c-12dc-4ae9-bc49-fa23317a0bf0",
   "metadata": {},
   "outputs": [],
   "source": [
    "#append means inserts new values to the existing table"
   ]
  },
  {
   "cell_type": "markdown",
   "id": "7ef4ec22-df47-42e6-9113-1d216a987b8e",
   "metadata": {},
   "source": [
    "#### Complex example"
   ]
  },
  {
   "cell_type": "markdown",
   "id": "43ee26f3-a71f-4b97-9f87-28a7e32235b3",
   "metadata": {},
   "source": [
    "##### We can also use the request module to get HTML code from an URL to parse it into DataFrame objects.\n",
    "##### If we look at the given URL we can see multiple tables about the simpsons TV show.\n",
    "##### We want to keep the table with information about each season"
   ]
  },
  {
   "cell_type": "code",
   "execution_count": null,
   "id": "db845460-7f1c-4b9f-a444-2f22a5babc06",
   "metadata": {},
   "outputs": [],
   "source": [
    "import requests"
   ]
  },
  {
   "cell_type": "code",
   "execution_count": null,
   "id": "024af348-766b-4ba3-ab5d-37708dcb8196",
   "metadata": {},
   "outputs": [],
   "source": [
    "html_url =\" https://en.wikipedia.org/wiki/The_Simpsons\""
   ]
  },
  {
   "cell_type": "code",
   "execution_count": null,
   "id": "86e576e0-d4da-4f24-82b0-70b5cd5820fe",
   "metadata": {},
   "outputs": [],
   "source": [
    "r = requests.get(html_url)"
   ]
  },
  {
   "cell_type": "code",
   "execution_count": null,
   "id": "be8d0caa-25ff-4f3e-b801-9f41ac2fe11a",
   "metadata": {},
   "outputs": [],
   "source": [
    "wiki_tables = pd.read_html(r.text, header=0)"
   ]
  },
  {
   "cell_type": "code",
   "execution_count": null,
   "id": "c28901f1-a8be-4d8e-be33-2775e99caeef",
   "metadata": {},
   "outputs": [],
   "source": [
    "len(wiki_tables)"
   ]
  },
  {
   "cell_type": "code",
   "execution_count": null,
   "id": "de54d0a6-f8d4-463c-a437-83e2cd7d1843",
   "metadata": {},
   "outputs": [],
   "source": [
    "simpsons = wiki_tables[1]"
   ]
  },
  {
   "cell_type": "code",
   "execution_count": null,
   "id": "a53107ef-a41c-433f-a2f9-94af68d8f1aa",
   "metadata": {},
   "outputs": [],
   "source": [
    "simpsons.head()"
   ]
  },
  {
   "cell_type": "markdown",
   "id": "2581b88c-b03f-42bc-82b3-9ce0f936d51c",
   "metadata": {},
   "source": [
    "### Save to CSV file"
   ]
  },
  {
   "cell_type": "markdown",
   "id": "5b81ec76-976a-4ead-b659-38edb44bb5f1",
   "metadata": {},
   "source": [
    "##### Finally we can also save our DataFrame as CSV file"
   ]
  },
  {
   "cell_type": "code",
   "execution_count": null,
   "id": "6c13fc8f-4505-42fe-aa1a-de3c102e3914",
   "metadata": {},
   "outputs": [],
   "source": [
    "exam_df"
   ]
  },
  {
   "cell_type": "markdown",
   "id": "a118604f-83c6-49ff-adb3-c1e4cd0abb5b",
   "metadata": {},
   "source": [
    "##### We can simply generate a CSV string from our DataFrame:"
   ]
  },
  {
   "cell_type": "code",
   "execution_count": null,
   "id": "816b5037-316e-4969-b05f-e6695631623e",
   "metadata": {},
   "outputs": [],
   "source": [
    "exam-df.to_csv()"
   ]
  },
  {
   "cell_type": "markdown",
   "id": "173542a2-9ce9-4a24-a02e-62c4ec5086f4",
   "metadata": {},
   "source": [
    "##### Or specify a file path where  we want our generated CSV code to be stored."
   ]
  },
  {
   "cell_type": "code",
   "execution_count": null,
   "id": "e6f7c4c6-d37b-4fdd-98ca-8f8652b63261",
   "metadata": {},
   "outputs": [],
   "source": [
    "exam_df.to_csv('out.csv')"
   ]
  },
  {
   "cell_type": "code",
   "execution_count": null,
   "id": "2f0ecb54-cebb-4de6-90f8-937de3b3da5d",
   "metadata": {},
   "outputs": [],
   "source": [
    "pd.read_csv('out.csv')"
   ]
  },
  {
   "cell_type": "code",
   "execution_count": null,
   "id": "6ae85e60-37ed-4ee2-9dd2-de1189019246",
   "metadata": {},
   "outputs": [],
   "source": [
    "exam_df.to_csv('out.csv',\n",
    "              index=None)"
   ]
  },
  {
   "cell_type": "code",
   "execution_count": null,
   "id": "ecba6ad2-4088-480c-b079-bfc5775d0bff",
   "metadata": {},
   "outputs": [],
   "source": [
    "pd.read_csv('out.csv')"
   ]
  },
  {
   "cell_type": "markdown",
   "id": "ba5e23db-7ba3-4e52-aca5-607bcdbd55fa",
   "metadata": {
    "tags": []
   },
   "source": [
    "## Accessing databases with python"
   ]
  },
  {
   "cell_type": "markdown",
   "id": "1147e712-102e-4c0d-afee-bf9812145577",
   "metadata": {},
   "source": [
    "### Using simple API"
   ]
  },
  {
   "cell_type": "markdown",
   "id": "ff62f218-dadf-4db6-8495-854974071a1f",
   "metadata": {},
   "source": [
    "##### API means application programme interface. It allows two pieces of software communicate with each other ,for example you have\n",
    "##### your programme, data and  other software components.Just like a function you dont have to know how API works,just like inputs and outputs.\n",
    "##### Pandas is actually a set of software components and most of them are not written in python, you have  some data and software components,\n",
    "##### all you need is the pandas API to process it by communicating with other API components."
   ]
  },
  {
   "cell_type": "code",
   "execution_count": null,
   "id": "8a6f5925-3ad4-43da-8257-9f696f120393",
   "metadata": {},
   "outputs": [],
   "source": [
    "# practical example using dictionary\n",
    "import pandas as pd"
   ]
  },
  {
   "cell_type": "code",
   "execution_count": null,
   "id": "901a077c-6750-4a97-bd38-4ed93bd1d4ee",
   "metadata": {},
   "outputs": [],
   "source": [
    "dict_={'a':[11,21, 31], 'b':[12, 22, 32]}\n",
    "df = pd.DataFrame(dict_)"
   ]
  },
  {
   "cell_type": "code",
   "execution_count": null,
   "id": "fee51e82-f31a-4b4e-b304-d1ecdc9b60ed",
   "metadata": {},
   "outputs": [],
   "source": [
    "df.head()"
   ]
  },
  {
   "cell_type": "code",
   "execution_count": null,
   "id": "c44b0904-2794-4e2a-a9a4-5d29b27f51ef",
   "metadata": {},
   "outputs": [],
   "source": [
    "df.mean()"
   ]
  },
  {
   "cell_type": "code",
   "execution_count": null,
   "id": "5d95654f-61f4-4e28-842e-20cb8b08a8f6",
   "metadata": {},
   "outputs": [],
   "source": [
    "# when you create a dictionary and create an object with DatFrame constructore as shown in the eg. above,in API lingual it is called an instance\n",
    "# the dat in the dict is passed along to the pandas API and used the DataFrame to communicate with the API, when you call the method head, the\n",
    "# DataFrame communicates with the API explaining the first two rows of the DataFrame, when you call the method mean, the DF will calculate the \n",
    "# mean and return the values."
   ]
  },
  {
   "cell_type": "markdown",
   "id": "573d4b70-bcab-4bd6-98b2-8e9fa70d8ca4",
   "metadata": {
    "tags": []
   },
   "source": [
    "### Rest API"
   ]
  },
  {
   "cell_type": "code",
   "execution_count": null,
   "id": "1a8def05-57a8-4a93-8c23-3e67d1b8eb65",
   "metadata": {},
   "outputs": [],
   "source": [
    "##### They are another popular type of API . They allow you to communicate with the internet and to take advantage of resources like storage,\n",
    "##### access more data,artificial intelligent algorithms and much more.RE stands for representational, S stands for state and T stands for Transfer APIs\n",
    "##### in Rest APIs your program is called the client\n",
    "##### Rest APIs are used to interact with web services ie the applications you call through the internet. There are set of rules regarding communication\n",
    "##### Input or Request and Output or response. the website is referred to as a resource"
   ]
  },
  {
   "cell_type": "code",
   "execution_count": null,
   "id": "0858d01d-99ed-4f32-ae05-7b779734d207",
   "metadata": {},
   "outputs": [],
   "source": [
    "#### HTTP METHODS"
   ]
  },
  {
   "cell_type": "code",
   "execution_count": null,
   "id": "c3ba5a37-ff72-4b87-9b7a-e359842f792d",
   "metadata": {},
   "outputs": [],
   "source": [
    "##### HTTP methods are ways of transmitting data over the internet.We tell the Rest API what to do by sending a request, the request is usually communicated\n",
    "##### via an HTTP message, the HTTP mesage usually contains a JASON FILE :like Dictionary , and this contains instructions on what operation we would like the service \n",
    "##### the service to perform to perform, this operation i message where the information is usually returned via JSON file and this information is transmitted back to \n",
    "##### client.  "
   ]
  },
  {
   "cell_type": "markdown",
   "id": "92de7a66-847b-4b2b-9638-a3118768bf89",
   "metadata": {
    "tags": []
   },
   "source": [
    "### nba api"
   ]
  },
  {
   "cell_type": "code",
   "execution_count": null,
   "id": "4188aba7-bc2e-4e44-a966-db40e483cca0",
   "metadata": {},
   "outputs": [],
   "source": [
    " ##### nba api was written by Swar Patel.Sports data bs always changing.it is the external application of an APIThe API is always been updated at end points from nba.com\n",
    "##### it is simple to use so you can focus on the task of colloecting data .In the nba API to make request for a specific team is simple. \n",
    "##### You dont require a JSON file, all we require is an ID and the information is stored locally in the API. We import the march teams, the method get\n",
    "##### teams returns a list of dictionary which are the same keys that the values depends on the team. The dictionay key id have a uninue identifier for each \n",
    "##### team as a value."
   ]
  },
  {
   "cell_type": "code",
   "execution_count": 2,
   "id": "eed98777-f88d-4c59-b802-988b677f28fb",
   "metadata": {},
   "outputs": [
    {
     "name": "stdout",
     "output_type": "stream",
     "text": [
      "Collecting nba_api\n",
      "  Downloading nba_api-1.1.11.tar.gz (125 kB)\n",
      "Requirement already satisfied: requests in c:\\users\\user\\anaconda3\\lib\\site-packages (from nba_api) (2.26.0)\n",
      "Requirement already satisfied: idna<4,>=2.5 in c:\\users\\user\\anaconda3\\lib\\site-packages (from requests->nba_api) (3.2)\n",
      "Requirement already satisfied: certifi>=2017.4.17 in c:\\users\\user\\anaconda3\\lib\\site-packages (from requests->nba_api) (2021.10.8)\n",
      "Requirement already satisfied: charset-normalizer~=2.0.0 in c:\\users\\user\\anaconda3\\lib\\site-packages (from requests->nba_api) (2.0.4)\n",
      "Requirement already satisfied: urllib3<1.27,>=1.21.1 in c:\\users\\user\\anaconda3\\lib\\site-packages (from requests->nba_api) (1.26.7)\n",
      "Building wheels for collected packages: nba-api\n",
      "  Building wheel for nba-api (setup.py): started\n",
      "  Building wheel for nba-api (setup.py): finished with status 'done'\n",
      "  Created wheel for nba-api: filename=nba_api-1.1.11-py3-none-any.whl size=251504 sha256=9bd4d7d7e5ed419c98ef588c7d7ed0a297b77d52fd9815f25a39bf5e5091f87c\n",
      "  Stored in directory: c:\\users\\user\\appdata\\local\\pip\\cache\\wheels\\66\\c2\\3b\\c87a243f9e5d2449e7f2c7bd65de4a6b5ce9a24b33978398a7\n",
      "Successfully built nba-api\n",
      "Installing collected packages: nba-api\n",
      "Successfully installed nba-api-1.1.11\n"
     ]
    }
   ],
   "source": [
    "!pip install nba_api"
   ]
  },
  {
   "cell_type": "code",
   "execution_count": 3,
   "id": "d873ce19-c94b-467f-9f72-cd0021402cde",
   "metadata": {},
   "outputs": [],
   "source": [
    "from nba_api.stats.static import teams"
   ]
  },
  {
   "cell_type": "code",
   "execution_count": 4,
   "id": "f7aec550-c285-4575-92f8-b8176c0a59fe",
   "metadata": {},
   "outputs": [],
   "source": [
    "nba_teams = teams.get_teams()"
   ]
  },
  {
   "cell_type": "code",
   "execution_count": 6,
   "id": "0bf73153-e1a7-4c44-93ef-fec1458c0775",
   "metadata": {},
   "outputs": [
    {
     "data": {
      "text/plain": [
       "[{'id': 1610612737,\n",
       "  'full_name': 'Atlanta Hawks',\n",
       "  'abbreviation': 'ATL',\n",
       "  'nickname': 'Hawks',\n",
       "  'city': 'Atlanta',\n",
       "  'state': 'Atlanta',\n",
       "  'year_founded': 1949},\n",
       " {'id': 1610612738,\n",
       "  'full_name': 'Boston Celtics',\n",
       "  'abbreviation': 'BOS',\n",
       "  'nickname': 'Celtics',\n",
       "  'city': 'Boston',\n",
       "  'state': 'Massachusetts',\n",
       "  'year_founded': 1946},\n",
       " {'id': 1610612739,\n",
       "  'full_name': 'Cleveland Cavaliers',\n",
       "  'abbreviation': 'CLE',\n",
       "  'nickname': 'Cavaliers',\n",
       "  'city': 'Cleveland',\n",
       "  'state': 'Ohio',\n",
       "  'year_founded': 1970},\n",
       " {'id': 1610612740,\n",
       "  'full_name': 'New Orleans Pelicans',\n",
       "  'abbreviation': 'NOP',\n",
       "  'nickname': 'Pelicans',\n",
       "  'city': 'New Orleans',\n",
       "  'state': 'Louisiana',\n",
       "  'year_founded': 2002},\n",
       " {'id': 1610612741,\n",
       "  'full_name': 'Chicago Bulls',\n",
       "  'abbreviation': 'CHI',\n",
       "  'nickname': 'Bulls',\n",
       "  'city': 'Chicago',\n",
       "  'state': 'Illinois',\n",
       "  'year_founded': 1966}]"
      ]
     },
     "execution_count": 6,
     "metadata": {},
     "output_type": "execute_result"
    }
   ],
   "source": [
    "nba_teams[:5]"
   ]
  },
  {
   "cell_type": "code",
   "execution_count": null,
   "id": "c2ad064d-8160-475b-9cf0-532b7e1c662f",
   "metadata": {},
   "outputs": [],
   "source": [
    "##### To make things easier we can combine the dictionary to a table , to achieve this , we will first create the function( one dict), \n",
    "##### to create a dictionary, we use the common keys for each team as the keys, the value is a list, each element of the list corressponds\n",
    "##### to the values for each team , we then convert the dictionary to a dataframe, each row contains the information for a different team.\n",
    "##### we use the teams nickname to find the unique id , We can also find the rows that contains the warriors as follows, id is the first column\n",
    "##### you can use the following line of code to accsee the first column of the DataFrame. we now have the integer that will be used to request\n",
    "##### the warriors information"
   ]
  },
  {
   "cell_type": "code",
   "execution_count": 21,
   "id": "b63a11d0-576e-43a8-85a0-8e0c2599b5fb",
   "metadata": {},
   "outputs": [
    {
     "ename": "SyntaxError",
     "evalue": "invalid syntax (Temp/ipykernel_16260/2220150866.py, line 4)",
     "output_type": "error",
     "traceback": [
      "\u001b[1;36m  File \u001b[1;32m\"C:\\Users\\user\\AppData\\Local\\Temp/ipykernel_16260/2220150866.py\"\u001b[1;36m, line \u001b[1;32m4\u001b[0m\n\u001b[1;33m    for dict_in list_dict:\u001b[0m\n\u001b[1;37m                ^\u001b[0m\n\u001b[1;31mSyntaxError\u001b[0m\u001b[1;31m:\u001b[0m invalid syntax\n"
     ]
    }
   ],
   "source": [
    "def one_dict(list_dict): # create function one dict\n",
    "    keys=list_dict[0].keys()  # use common key as the keys\n",
    "    out_dict={key:[] for key in keys} # put in list form\n",
    "    for dict_in list_dict:\n",
    "        for key, value in dict_.items():\n",
    "            out_dict[key].append(value)     \n",
    "    return out_dict       "
   ]
  },
  {
   "cell_type": "code",
   "execution_count": 23,
   "id": "b5b52670-00a2-4b2a-aac7-fcea2348746d",
   "metadata": {},
   "outputs": [
    {
     "ename": "IndentationError",
     "evalue": "unexpected indent (Temp/ipykernel_16260/2403520601.py, line 2)",
     "output_type": "error",
     "traceback": [
      "\u001b[1;36m  File \u001b[1;32m\"C:\\Users\\user\\AppData\\Local\\Temp/ipykernel_16260/2403520601.py\"\u001b[1;36m, line \u001b[1;32m2\u001b[0m\n\u001b[1;33m    dict_nba_team=one_dict(nba_teams)\u001b[0m\n\u001b[1;37m    ^\u001b[0m\n\u001b[1;31mIndentationError\u001b[0m\u001b[1;31m:\u001b[0m unexpected indent\n"
     ]
    }
   ],
   "source": [
    "  # convert the dictionary to a DataFrame\n",
    "    dict_nba_team=one_dict(nba_teams)\n",
    "        df_teams=pd.DataFrame(dict_nba_team) \n",
    "        df_teams.head()"
   ]
  },
  {
   "cell_type": "code",
   "execution_count": 24,
   "id": "3df43908-44a3-4909-96a4-fc7a0f8760d6",
   "metadata": {},
   "outputs": [],
   "source": [
    "# using the teams nickname to find the unique id\n"
   ]
  },
  {
   "cell_type": "code",
   "execution_count": 25,
   "id": "2f743d81-be1e-4c03-8062-13e8f26cdc6c",
   "metadata": {},
   "outputs": [
    {
     "ename": "NameError",
     "evalue": "name 'df_teams' is not defined",
     "output_type": "error",
     "traceback": [
      "\u001b[1;31m---------------------------------------------------------------------------\u001b[0m",
      "\u001b[1;31mNameError\u001b[0m                                 Traceback (most recent call last)",
      "\u001b[1;32m~\\AppData\\Local\\Temp/ipykernel_16260/2985412580.py\u001b[0m in \u001b[0;36m<module>\u001b[1;34m\u001b[0m\n\u001b[0;32m      1\u001b[0m \u001b[1;31m# To find the rows that contains the warriors\u001b[0m\u001b[1;33m\u001b[0m\u001b[1;33m\u001b[0m\u001b[0m\n\u001b[1;32m----> 2\u001b[1;33m \u001b[0mdf_warriors\u001b[0m\u001b[1;33m=\u001b[0m\u001b[0mdf_teams\u001b[0m\u001b[1;33m[\u001b[0m\u001b[0mdf_teams\u001b[0m\u001b[1;33m[\u001b[0m\u001b[1;34m'nickname'\u001b[0m\u001b[1;33m]\u001b[0m\u001b[1;33m==\u001b[0m\u001b[1;34m'Warriors'\u001b[0m\u001b[1;33m]\u001b[0m\u001b[1;33m\u001b[0m\u001b[1;33m\u001b[0m\u001b[0m\n\u001b[0m\u001b[0;32m      3\u001b[0m \u001b[0mdf_warriors\u001b[0m\u001b[1;33m\u001b[0m\u001b[1;33m\u001b[0m\u001b[0m\n",
      "\u001b[1;31mNameError\u001b[0m: name 'df_teams' is not defined"
     ]
    }
   ],
   "source": [
    "# To find the rows that contains the warriors\n",
    "df_warriors=df_teams[df_teams['nickname']=='Warriors']\n",
    "df_warriors"
   ]
  },
  {
   "cell_type": "code",
   "execution_count": 26,
   "id": "75a635a2-6542-44ad-8458-a19df0e910ef",
   "metadata": {},
   "outputs": [
    {
     "ename": "NameError",
     "evalue": "name 'df_warriors' is not defined",
     "output_type": "error",
     "traceback": [
      "\u001b[1;31m---------------------------------------------------------------------------\u001b[0m",
      "\u001b[1;31mNameError\u001b[0m                                 Traceback (most recent call last)",
      "\u001b[1;32m~\\AppData\\Local\\Temp/ipykernel_16260/2040627291.py\u001b[0m in \u001b[0;36m<module>\u001b[1;34m\u001b[0m\n\u001b[1;32m----> 1\u001b[1;33m \u001b[0mid_warriors\u001b[0m\u001b[1;33m=\u001b[0m\u001b[0mdf_warriors\u001b[0m\u001b[1;33m[\u001b[0m\u001b[1;33m[\u001b[0m\u001b[1;34m'id'\u001b[0m\u001b[1;33m]\u001b[0m\u001b[1;33m]\u001b[0m\u001b[1;33m.\u001b[0m\u001b[0mvalues\u001b[0m\u001b[1;33m[\u001b[0m\u001b[1;36m0\u001b[0m\u001b[1;33m]\u001b[0m\u001b[1;33m[\u001b[0m\u001b[1;36m0\u001b[0m\u001b[1;33m]\u001b[0m\u001b[1;33m\u001b[0m\u001b[1;33m\u001b[0m\u001b[0m\n\u001b[0m",
      "\u001b[1;31mNameError\u001b[0m: name 'df_warriors' is not defined"
     ]
    }
   ],
   "source": [
    "id_warriors=df_warriors[['id']].values[0][0]"
   ]
  },
  {
   "cell_type": "code",
   "execution_count": null,
   "id": "ad8fa7f2-8756-426a-bdcc-7f8d2e2a9ca5",
   "metadata": {},
   "outputs": [],
   "source": [
    "##### The function leaguegame finder bwill make an API call,the parameter the unique id nullable is the unique id for the warriors,under the hall\n",
    "##### nba api is making an http requests and it is transmitted to nba.com.The information requested is provided an is transmitted via an http Response\n",
    "##### and this is a sign to the object gamefinder. The game finder object has a method get data frame and this returns the DataFrame and this gives infor\n",
    "3#3## about all the games that the warriors played,PLUS MINUS column contains information on the scores, if the value is negative, the warriors lost by \n",
    "##### that many scores an if it is possitive ,then they won by that amount of point. The column MATCH UP has the teams the wariors were playing. \n",
    "##### GsW stands for GOLDEN STEAD and  TOR means TORANO RACTERS, and VS signifies that it was a home game and the @ symbol means an away game.\n",
    "##### We can create two dataframes, one the game where the warriors has to face the Racters at home and the second for the away games."
   ]
  },
  {
   "cell_type": "code",
   "execution_count": 4,
   "id": "e9c94284-aa98-4dcc-9831-e2eea3778899",
   "metadata": {},
   "outputs": [
    {
     "ename": "AttributeError",
     "evalue": "module 'nba_api.stats.endpoints.leaguegamefinder' has no attribute 'leagueGameFinder'",
     "output_type": "error",
     "traceback": [
      "\u001b[1;31m---------------------------------------------------------------------------\u001b[0m",
      "\u001b[1;31mAttributeError\u001b[0m                            Traceback (most recent call last)",
      "\u001b[1;32m~\\AppData\\Local\\Temp/ipykernel_9896/1505099850.py\u001b[0m in \u001b[0;36m<module>\u001b[1;34m\u001b[0m\n\u001b[0;32m      1\u001b[0m \u001b[1;32mfrom\u001b[0m \u001b[0mnba_api\u001b[0m\u001b[1;33m.\u001b[0m\u001b[0mstats\u001b[0m\u001b[1;33m.\u001b[0m\u001b[0mendpoints\u001b[0m \u001b[1;32mimport\u001b[0m \u001b[0mleaguegamefinder\u001b[0m\u001b[1;33m\u001b[0m\u001b[1;33m\u001b[0m\u001b[0m\n\u001b[1;32m----> 2\u001b[1;33m \u001b[0mgamefinder\u001b[0m\u001b[1;33m=\u001b[0m\u001b[0mleaguegamefinder\u001b[0m\u001b[1;33m.\u001b[0m\u001b[0mleagueGameFinder\u001b[0m\u001b[1;33m(\u001b[0m\u001b[0mteam_id_nullable\u001b[0m\u001b[1;33m=\u001b[0m\u001b[0mid_warriors\u001b[0m\u001b[1;33m)\u001b[0m\u001b[1;33m\u001b[0m\u001b[1;33m\u001b[0m\u001b[0m\n\u001b[0m",
      "\u001b[1;31mAttributeError\u001b[0m: module 'nba_api.stats.endpoints.leaguegamefinder' has no attribute 'leagueGameFinder'"
     ]
    }
   ],
   "source": [
    "from nba_api.stats.endpoints import leaguegamefinder"
   ]
  },
  {
   "cell_type": "code",
   "execution_count": null,
   "id": "e5b9d293-1753-41b4-a97c-9588a60bb1f0",
   "metadata": {},
   "outputs": [],
   "source": [
    "gamefinder=leaguegamefinder.leagueGameFinder(team_id_nullable=id_warriors)"
   ]
  },
  {
   "cell_type": "code",
   "execution_count": 2,
   "id": "3c31c991-e65a-4238-a418-7736a9d8d669",
   "metadata": {},
   "outputs": [
    {
     "ename": "NameError",
     "evalue": "name 'gamefinder' is not defined",
     "output_type": "error",
     "traceback": [
      "\u001b[1;31m---------------------------------------------------------------------------\u001b[0m",
      "\u001b[1;31mNameError\u001b[0m                                 Traceback (most recent call last)",
      "\u001b[1;32m~\\AppData\\Local\\Temp/ipykernel_9896/2913460259.py\u001b[0m in \u001b[0;36m<module>\u001b[1;34m\u001b[0m\n\u001b[1;32m----> 1\u001b[1;33m \u001b[0mgame\u001b[0m \u001b[1;33m=\u001b[0m \u001b[0mgamefinder\u001b[0m\u001b[1;33m.\u001b[0m\u001b[0mget_data_frames\u001b[0m\u001b[1;33m(\u001b[0m\u001b[1;33m)\u001b[0m\u001b[1;33m[\u001b[0m\u001b[1;36m0\u001b[0m\u001b[1;33m]\u001b[0m\u001b[1;33m\u001b[0m\u001b[1;33m\u001b[0m\u001b[0m\n\u001b[0m\u001b[0;32m      2\u001b[0m \u001b[0mgames\u001b[0m\u001b[1;33m.\u001b[0m\u001b[0mhead\u001b[0m\u001b[1;33m(\u001b[0m\u001b[1;33m)\u001b[0m\u001b[1;33m\u001b[0m\u001b[1;33m\u001b[0m\u001b[0m\n",
      "\u001b[1;31mNameError\u001b[0m: name 'gamefinder' is not defined"
     ]
    }
   ],
   "source": [
    "game = gamefinder.get_data_frames()[0]\n",
    "games.head()"
   ]
  },
  {
   "cell_type": "code",
   "execution_count": null,
   "id": "c1551faa-23bc-45ba-8b07-e45e250cab9f",
   "metadata": {},
   "outputs": [],
   "source": [
    "#create DataFrame for the warriors away game and home game\n",
    "games_home=games[games['MATCHUP']=='GSW vs.TOR']\n",
    "games_away=games[games['MATCHUP']=='GSW vs.TOR']\n",
    "ax.legend([\"away\",\"home\"])\n",
    "plt.show()"
   ]
  },
  {
   "cell_type": "code",
   "execution_count": null,
   "id": "43e6d72f-3e4e-4886-9f9b-d56a8ef0441e",
   "metadata": {},
   "outputs": [],
   "source": [
    "fig,ax=plt.subplots()\n",
    "games_home=games[games['MATCHUP']=='GSW vs.TOR']\n",
    "games_away=games[games['MATCHUP']=='GSW vs.TOR']"
   ]
  },
  {
   "cell_type": "markdown",
   "id": "a6dbb717-453e-40dd-a04c-df84fc17acb6",
   "metadata": {},
   "source": [
    "### How to use SQlite database with python"
   ]
  },
  {
   "cell_type": "markdown",
   "id": "5d4cdc3d-3c24-43d1-a2f3-e1cd81f80c12",
   "metadata": {},
   "source": [
    "##### Load necessary libaries"
   ]
  },
  {
   "cell_type": "code",
   "execution_count": null,
   "id": "b5819ba9-1b3a-4e93-b4aa-24858e78b24c",
   "metadata": {},
   "outputs": [],
   "source": [
    "import sqlite3"
   ]
  },
  {
   "cell_type": "code",
   "execution_count": null,
   "id": "775c0c58-cf14-4537-a1bd-1435fc7700dc",
   "metadata": {},
   "outputs": [],
   "source": [
    "#you can also open with sql viewer"
   ]
  },
  {
   "cell_type": "code",
   "execution_count": null,
   "id": "a9276c36-b312-4403-8c9a-3dafaff45713",
   "metadata": {},
   "outputs": [],
   "source": [
    "# open a connection to sqlite database, to achieve that, \n",
    "#make connection and specify the file where the data will be stored(data.db) but u can use any file name you want ,\n",
    "#and this file will automatically be created when we run our program\n",
    "#connection = sqlite3.connect('data.db')\n",
    "#cursor = connection.cursor() # you need a cursor to interate with the database \n",
    "#\n",
    "# We will then use an sql language to generate our table and query our database(use cursor .execute and specify the \n",
    "#string we will use in creating our table)\n",
    "# sql is vary famous in creating databases and our tables\n",
    "# We are going to create a table called 'STUDENT'and provide a name that will constitute our table\n",
    "# The sql language to use is ('CREATE TABLE STUDENTS')\n",
    "# Here we are using just 2 columns name  of the student, remember to specify the type, here is text, then the next column Gender also a text\n",
    "# ('CREATE TABLE STUDENTS(Name text, gender text)')\n",
    "# the table is empty and we have to populate it, to insert data into our table we will use the execute function\n",
    "# note ,we have to provide our values,secondly ,we change the outer cut to (\")(double quote and inner query single quote(') to avoid confusio\n",
    "#cursor.execute(\"INSERT INTO STUDENT VALUES('Max', 'M')\")\n",
    "#cursor.execute(\"INSERT INTO STUDENT VALUES('Sally', 'F')\") \n",
    "#cursor.execute(\"INSERT INTO STUDENT VALUES('Sarah', 'F')\") \n",
    "# After this we need to commit our data with the syntax below\n",
    "#connection.commit()\n",
    "# we also need to close our data using the close function\n",
    "# connection.close()\n",
    "# In summary,on how to create an sql script, import sqlite3 ,open a connection,and connect to a data base file, remember to name your data\n",
    "#Create table and insert data using sql language, then commit your work so as to execute all the sql queries you have entered then close \n",
    "# your connectio, In order to view the content after creation , just go on line and search for 'sqlite viewer' paste the data you just\n",
    "#created on it and you will be able to view your table."
   ]
  },
  {
   "cell_type": "code",
   "execution_count": null,
   "id": "714178fa-77cd-4fa6-b417-0ab7eb57667c",
   "metadata": {},
   "outputs": [],
   "source": [
    "#df2 = pd.read_sql('SELECT * STUDENTS;', connection, replace) "
   ]
  },
  {
   "cell_type": "code",
   "execution_count": null,
   "id": "932f7f98-19d8-4218-98d9-71fdabed82e2",
   "metadata": {},
   "outputs": [],
   "source": [
    "#df2.head()"
   ]
  },
  {
   "cell_type": "code",
   "execution_count": null,
   "id": "79e10ad6-2673-447e-b3a0-8ba1364ee10e",
   "metadata": {},
   "outputs": [],
   "source": [
    "import sqlite3"
   ]
  },
  {
   "cell_type": "code",
   "execution_count": null,
   "id": "7d6fdb38-f6b6-4492-9c2c-aeaa18db2205",
   "metadata": {},
   "outputs": [],
   "source": [
    "connection = sqlite3.connect('data.db')\n",
    "\n",
    "cursor = connection.cursor()\n",
    "\n",
    "cursor.execute(\"CREATE TABLE STUDENT (Name text, Gender text)\")\n",
    "cursor.execute(\"INSERT INTO STUDENT VALUES('Max', 'M')\") \n",
    "cursor.execute(\"INSERT INTO STUDENT VALUES('Sally', 'F')\") \n",
    "cursor.execute(\"INSERT INTO STUDENT VALUES('Sarah', 'F')\") \n",
    "\n",
    "connection.commit()\n",
    "\n",
    "connection.close()"
   ]
  },
  {
   "cell_type": "code",
   "execution_count": null,
   "id": "95f890af-4b75-4df6-9a22-f4a3076f0e32",
   "metadata": {},
   "outputs": [],
   "source": [
    "connection = sqlite3.connect('data.db')"
   ]
  },
  {
   "cell_type": "code",
   "execution_count": null,
   "id": "ef84f20c-88db-458a-8883-9b32d3251faa",
   "metadata": {},
   "outputs": [],
   "source": [
    "# How to view your table on pyhon jupiter notebook or lab"
   ]
  },
  {
   "cell_type": "code",
   "execution_count": null,
   "id": "61750568-3ea5-4922-bb62-e42b51fac0fa",
   "metadata": {},
   "outputs": [],
   "source": [
    "df2 = pd.read_sql('SELECT * STUDENT', connection) "
   ]
  },
  {
   "cell_type": "code",
   "execution_count": null,
   "id": "d3947c99-df9e-4d76-b83b-85036ed32e08",
   "metadata": {},
   "outputs": [],
   "source": []
  },
  {
   "cell_type": "code",
   "execution_count": null,
   "id": "9b7597ba-e0fc-49a0-9552-fbd5363f9795",
   "metadata": {},
   "outputs": [],
   "source": [
    "df2.head()"
   ]
  },
  {
   "cell_type": "code",
   "execution_count": null,
   "id": "8c400d20-df6e-47b0-a71e-415932ea85aa",
   "metadata": {},
   "outputs": [],
   "source": [
    "pd.DataFrame().to_sql('STUDENTS', connection,\n",
    "                      if_exists= 'replace')"
   ]
  },
  {
   "cell_type": "code",
   "execution_count": null,
   "id": "14ec301a-4cae-476e-a305-9f8bb1bbe215",
   "metadata": {},
   "outputs": [],
   "source": [
    "df2 = pd.read_sql('select * from student;', connection\n",
    "                 )\n",
    "df2.head()\n",
    "pd.DataFrame().to_sql('employees2',\n",
    "                      conn,)\n",
    "                      \n",
    "pd.read_sql_query('SELECT * FROM employees2;', conn).head()\n",
    "\n",
    "pd.read_sql_query('SELECT * FROM employees2;'"
   ]
  },
  {
   "cell_type": "code",
   "execution_count": null,
   "id": "b15624fd-51f6-4b56-a5aa-1001557c6873",
   "metadata": {},
   "outputs": [],
   "source": [
    "# https://notepad-plus-plus.org/downloads/"
   ]
  },
  {
   "cell_type": "code",
   "execution_count": null,
   "id": "98349f65-69c9-45ba-9d51-12fe5d9908dd",
   "metadata": {},
   "outputs": [],
   "source": []
  }
 ],
 "metadata": {
  "kernelspec": {
   "display_name": "Python 3 (ipykernel)",
   "language": "python",
   "name": "python3"
  },
  "language_info": {
   "codemirror_mode": {
    "name": "ipython",
    "version": 3
   },
   "file_extension": ".py",
   "mimetype": "text/x-python",
   "name": "python",
   "nbconvert_exporter": "python",
   "pygments_lexer": "ipython3",
   "version": "3.9.7"
  }
 },
 "nbformat": 4,
 "nbformat_minor": 5
}
