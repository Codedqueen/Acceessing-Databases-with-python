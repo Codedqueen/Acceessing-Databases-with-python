{
 "cells": [
  {
   "cell_type": "markdown",
   "id": "6f607e26-e7e2-462e-8b6e-651f26aa98c2",
   "metadata": {},
   "source": [
    "### Reading Data from relational Databases"
   ]
  },
  {
   "cell_type": "code",
   "execution_count": null,
   "id": "600683f6-d50d-4f0d-ab7a-5a36f0b70644",
   "metadata": {},
   "outputs": [],
   "source": [
    "import pandas as pd"
   ]
  },
  {
   "cell_type": "code",
   "execution_count": null,
   "id": "dcdf99b9-323b-48f2-85c8-a7bf4fbaf75c",
   "metadata": {},
   "outputs": [],
   "source": [
    " ('C:\\Users\\\\user\\\\Downloads\\\\chinook.db')"
   ]
  }
 ],
 "metadata": {
  "kernelspec": {
   "display_name": "",
   "name": ""
  },
  "language_info": {
   "name": ""
  }
 },
 "nbformat": 4,
 "nbformat_minor": 5
}
